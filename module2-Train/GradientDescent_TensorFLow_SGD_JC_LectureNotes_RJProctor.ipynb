{
  "nbformat": 4,
  "nbformat_minor": 0,
  "metadata": {
    "colab": {
      "name": "GradientDescent_TensorFLow_SGD_JC_LectureNotes_RJProctor.ipynb",
      "provenance": [],
      "collapsed_sections": [],
      "authorship_tag": "ABX9TyNSRtiyqutywncXygvKGvr7",
      "include_colab_link": true
    },
    "kernelspec": {
      "name": "python3",
      "display_name": "Python 3"
    },
    "accelerator": "GPU"
  },
  "cells": [
    {
      "cell_type": "markdown",
      "metadata": {
        "id": "view-in-github",
        "colab_type": "text"
      },
      "source": [
        "<a href=\"https://colab.research.google.com/github/jproctor-rebecca/DS-Unit-4-Sprint-2-Neural-Networks/blob/main/module2-Train/GradientDescent_TensorFLow_SGD_JC_LectureNotes_RJProctor.ipynb\" target=\"_parent\"><img src=\"https://colab.research.google.com/assets/colab-badge.svg\" alt=\"Open In Colab\"/></a>"
      ]
    },
    {
      "cell_type": "code",
      "metadata": {
        "id": "e8p4_oObkv9t"
      },
      "source": [
        "# import tensorflow as tf\n",
        "# device_name = tf.test.gpu_device_name()\n",
        "# if device_name != '/device:GPU:0':\n",
        "#   raise SystemError('GPU device not found')\n",
        "# print('Found GPU at: {}'.format(device_name))"
      ],
      "execution_count": 1,
      "outputs": []
    },
    {
      "cell_type": "markdown",
      "metadata": {
        "id": "j3LHHLVuk_mk"
      },
      "source": [
        "## TensorFlow/Keras Learning Goals\n",
        "*  Intro TensorFlow KerasAPI\n",
        "*  Show example of training model\n",
        "*  discuss Gradient Descent\n",
        "*  optional: investigate the TensorFlow/Keras code for Dense Layers"
      ]
    },
    {
      "cell_type": "code",
      "metadata": {
        "id": "A8WwXu2ek-TV"
      },
      "source": [
        "# dense - layer that has connections between layers\n",
        "from tensorflow.keras.layers import Dense\n",
        "from tensorflow.keras.models import Sequential\n",
        "from tensorflow.keras.optimizers import SGD, Adam\n"
      ],
      "execution_count": 2,
      "outputs": []
    },
    {
      "cell_type": "markdown",
      "metadata": {
        "id": "xb4nI0sUmSx6"
      },
      "source": [
        "## Neural Netowork - Workflow\n",
        "\n",
        "1. import tensorflow\n",
        "2. define a model\n",
        "3. compile the model\n",
        "4. fit the model\n",
        "5. evaluate the model\n"
      ]
    },
    {
      "cell_type": "code",
      "metadata": {
        "id": "tUeVYRJHmORS"
      },
      "source": [
        "# predict 10 categories (output)\n",
        "\n",
        "# instantiate model\n",
        "model = Sequential([\n",
        "                    Dense(5, activation='sigmoid', input_dim=784),\n",
        "                    Dense(5, activation='sigmoid'),\n",
        "                    Dense(10, activation='softmax')\n",
        "])\n",
        "\n",
        "\n",
        "# compile model\n",
        "model.compile(optimizer=SGD(), \n",
        "               loss='sparse_categorical_crossentropy', \n",
        "               metrics=['accuracy']\n",
        "               )"
      ],
      "execution_count": 3,
      "outputs": []
    },
    {
      "cell_type": "code",
      "metadata": {
        "id": "i0fDmxSRpOT0",
        "outputId": "c5241c8a-dd9d-4302-a24f-f4015ffff7c6",
        "colab": {
          "base_uri": "https://localhost:8080/"
        }
      },
      "source": [
        "model.summary()"
      ],
      "execution_count": 4,
      "outputs": [
        {
          "output_type": "stream",
          "text": [
            "Model: \"sequential\"\n",
            "_________________________________________________________________\n",
            "Layer (type)                 Output Shape              Param #   \n",
            "=================================================================\n",
            "dense (Dense)                (None, 5)                 3925      \n",
            "_________________________________________________________________\n",
            "dense_1 (Dense)              (None, 5)                 30        \n",
            "_________________________________________________________________\n",
            "dense_2 (Dense)              (None, 10)                60        \n",
            "=================================================================\n",
            "Total params: 4,015\n",
            "Trainable params: 4,015\n",
            "Non-trainable params: 0\n",
            "_________________________________________________________________\n"
          ],
          "name": "stdout"
        }
      ]
    },
    {
      "cell_type": "code",
      "metadata": {
        "id": "cfAn0I4ypkeR"
      },
      "source": [
        "# load data\n",
        "from tensorflow.keras.datasets import mnist\n",
        "\n",
        "# split data train/test sets\n",
        "(X_train, y_train), (X_test, y_test) = mnist.load_data()\n"
      ],
      "execution_count": 5,
      "outputs": []
    },
    {
      "cell_type": "code",
      "metadata": {
        "id": "S2jvAFXbrPW-",
        "outputId": "918fde00-41fd-44ac-fb46-2dd71d202697",
        "colab": {
          "base_uri": "https://localhost:8080/"
        }
      },
      "source": [
        "X_train.shape, y_train.shape, X_test.shape, y_test.shape"
      ],
      "execution_count": 6,
      "outputs": [
        {
          "output_type": "execute_result",
          "data": {
            "text/plain": [
              "((60000, 28, 28), (60000,), (10000, 28, 28), (10000,))"
            ]
          },
          "metadata": {
            "tags": []
          },
          "execution_count": 6
        }
      ]
    },
    {
      "cell_type": "code",
      "metadata": {
        "id": "QS1MM-Ccqohm",
        "outputId": "a379edc6-8c9f-4c5c-8a3f-97f774eaf96f",
        "colab": {
          "base_uri": "https://localhost:8080/",
          "height": 282
        }
      },
      "source": [
        "import matplotlib.pyplot as plt\n",
        "\n",
        "plt.imshow(X_train[23]);\n",
        "print(y_train[23])"
      ],
      "execution_count": 7,
      "outputs": [
        {
          "output_type": "stream",
          "text": [
            "1\n"
          ],
          "name": "stdout"
        },
        {
          "output_type": "display_data",
          "data": {
            "image/png": "[encoded data removed]",
            "text/plain": [
              "<Figure size 432x288 with 1 Axes>"
            ]
          },
          "metadata": {
            "tags": [],
            "needs_background": "light"
          }
        }
      ]
    },
    {
      "cell_type": "code",
      "metadata": {
        "id": "hDQBAgQer_HB"
      },
      "source": [
        "# flatten values\n",
        "X_train = X_train.reshape((60000, 784))\n",
        "X_test = X_test.reshape((10000, 784))"
      ],
      "execution_count": 8,
      "outputs": []
    },
    {
      "cell_type": "code",
      "metadata": {
        "id": "nmmVGAR8s6NO",
        "outputId": "b3b15b6a-7603-4081-e504-1f09a51885ef",
        "colab": {
          "base_uri": "https://localhost:8080/"
        }
      },
      "source": [
        "# fit data to model\n",
        "\n",
        "model.fit(X_train,\n",
        "          y_train, \n",
        "          epochs=25,\n",
        "          validation_data=(X_test, y_test)\n",
        "          )"
      ],
      "execution_count": 9,
      "outputs": [
        {
          "output_type": "stream",
          "text": [
            "Epoch 1/25\n",
            "1875/1875 [==============================] - 3s 2ms/step - loss: 2.1859 - accuracy: 0.2810 - val_loss: 2.0836 - val_accuracy: 0.3956\n",
            "Epoch 2/25\n",
            "1875/1875 [==============================] - 3s 2ms/step - loss: 2.0026 - accuracy: 0.3930 - val_loss: 1.9083 - val_accuracy: 0.3881\n",
            "Epoch 3/25\n",
            "1875/1875 [==============================] - 3s 2ms/step - loss: 1.8291 - accuracy: 0.4629 - val_loss: 1.7474 - val_accuracy: 0.5054\n",
            "Epoch 4/25\n",
            "1875/1875 [==============================] - 3s 2ms/step - loss: 1.6842 - accuracy: 0.5008 - val_loss: 1.6179 - val_accuracy: 0.4911\n",
            "Epoch 5/25\n",
            "1875/1875 [==============================] - 3s 2ms/step - loss: 1.5607 - accuracy: 0.5238 - val_loss: 1.5718 - val_accuracy: 0.4496\n",
            "Epoch 6/25\n",
            "1875/1875 [==============================] - 3s 2ms/step - loss: 1.4733 - accuracy: 0.5307 - val_loss: 1.4208 - val_accuracy: 0.6076\n",
            "Epoch 7/25\n",
            "1875/1875 [==============================] - 3s 2ms/step - loss: 1.3977 - accuracy: 0.6397 - val_loss: 1.3794 - val_accuracy: 0.6153\n",
            "Epoch 8/25\n",
            "1875/1875 [==============================] - 3s 2ms/step - loss: 1.3037 - accuracy: 0.6683 - val_loss: 1.2700 - val_accuracy: 0.6815\n",
            "Epoch 9/25\n",
            "1875/1875 [==============================] - 3s 2ms/step - loss: 1.2356 - accuracy: 0.7010 - val_loss: 1.1866 - val_accuracy: 0.7117\n",
            "Epoch 10/25\n",
            "1875/1875 [==============================] - 3s 2ms/step - loss: 1.1907 - accuracy: 0.6872 - val_loss: 1.1429 - val_accuracy: 0.7021\n",
            "Epoch 11/25\n",
            "1875/1875 [==============================] - 3s 2ms/step - loss: 1.1400 - accuracy: 0.7114 - val_loss: 1.1026 - val_accuracy: 0.7320\n",
            "Epoch 12/25\n",
            "1875/1875 [==============================] - 3s 2ms/step - loss: 1.1195 - accuracy: 0.7108 - val_loss: 1.1156 - val_accuracy: 0.7159\n",
            "Epoch 13/25\n",
            "1875/1875 [==============================] - 3s 2ms/step - loss: 1.0743 - accuracy: 0.7142 - val_loss: 1.0524 - val_accuracy: 0.7235\n",
            "Epoch 14/25\n",
            "1875/1875 [==============================] - 3s 2ms/step - loss: 1.0333 - accuracy: 0.7296 - val_loss: 1.1245 - val_accuracy: 0.6441\n",
            "Epoch 15/25\n",
            "1875/1875 [==============================] - 3s 2ms/step - loss: 1.0241 - accuracy: 0.7163 - val_loss: 1.0448 - val_accuracy: 0.6971\n",
            "Epoch 16/25\n",
            "1875/1875 [==============================] - 4s 2ms/step - loss: 1.0152 - accuracy: 0.7247 - val_loss: 0.9910 - val_accuracy: 0.7346\n",
            "Epoch 17/25\n",
            "1875/1875 [==============================] - 4s 2ms/step - loss: 1.0117 - accuracy: 0.7306 - val_loss: 0.9638 - val_accuracy: 0.7517\n",
            "Epoch 18/25\n",
            "1875/1875 [==============================] - 4s 2ms/step - loss: 0.9624 - accuracy: 0.7531 - val_loss: 0.9117 - val_accuracy: 0.7796\n",
            "Epoch 19/25\n",
            "1875/1875 [==============================] - 3s 2ms/step - loss: 0.9215 - accuracy: 0.7664 - val_loss: 0.8785 - val_accuracy: 0.7735\n",
            "Epoch 20/25\n",
            "1875/1875 [==============================] - 3s 2ms/step - loss: 0.9167 - accuracy: 0.7617 - val_loss: 0.9025 - val_accuracy: 0.7752\n",
            "Epoch 21/25\n",
            "1875/1875 [==============================] - 3s 2ms/step - loss: 0.9018 - accuracy: 0.7680 - val_loss: 0.8710 - val_accuracy: 0.7817\n",
            "Epoch 22/25\n",
            "1875/1875 [==============================] - 3s 2ms/step - loss: 0.9671 - accuracy: 0.7379 - val_loss: 0.9450 - val_accuracy: 0.7537\n",
            "Epoch 23/25\n",
            "1875/1875 [==============================] - 3s 2ms/step - loss: 0.9509 - accuracy: 0.7434 - val_loss: 0.8635 - val_accuracy: 0.7756\n",
            "Epoch 24/25\n",
            "1875/1875 [==============================] - 3s 2ms/step - loss: 0.8711 - accuracy: 0.7717 - val_loss: 0.8588 - val_accuracy: 0.7734\n",
            "Epoch 25/25\n",
            "1875/1875 [==============================] - 3s 2ms/step - loss: 0.8775 - accuracy: 0.7624 - val_loss: 0.8803 - val_accuracy: 0.7517\n"
          ],
          "name": "stdout"
        },
        {
          "output_type": "execute_result",
          "data": {
            "text/plain": [
              "<tensorflow.python.keras.callbacks.History at 0x7fdf500e8a58>"
            ]
          },
          "metadata": {
            "tags": []
          },
          "execution_count": 9
        }
      ]
    },
    {
      "cell_type": "markdown",
      "metadata": {
        "id": "3qFIY0y3va_8"
      },
      "source": [
        "  ## Stochastic Gradient Descent\n",
        "  *  Batches - the number of observations the model is shown to make predictions and update weights; batches are selected randomly during epoch; all observations are considered when passing through an epoch at some point\n",
        "*  smaller batch size = slower runtime (but maybe more accurate results)\n",
        "* default batch = balance between speed and accuracy\n",
        "* large batch = verry fast but not nearly as accurate\n",
        "  *  Learning Rate\n",
        "  *  Evaluation"
      ]
    },
    {
      "cell_type": "code",
      "metadata": {
        "id": "yx_olsQ3ungC"
      },
      "source": [
        "model_sgd = SGD(\n",
        "    learning_rate=0.01,\n",
        ")"
      ],
      "execution_count": 10,
      "outputs": []
    },
    {
      "cell_type": "markdown",
      "metadata": {
        "id": "REoTzLVCyKpI"
      },
      "source": [
        "## Default Experiment"
      ]
    },
    {
      "cell_type": "code",
      "metadata": {
        "id": "mvROoWgwxozb"
      },
      "source": [
        "# instantiate model\n",
        "model = Sequential([\n",
        "                    Dense(5, activation='sigmoid', input_dim=784),\n",
        "                    Dense(5, activation='sigmoid'),\n",
        "                    Dense(10, activation='softmax')\n",
        "])\n",
        "\n",
        "\n",
        "# compile model\n",
        "model.compile(optimizer=SGD(), \n",
        "               loss='sparse_categorical_crossentropy', \n",
        "               metrics=['accuracy']\n",
        "               )\n"
      ],
      "execution_count": 11,
      "outputs": []
    },
    {
      "cell_type": "code",
      "metadata": {
        "id": "ItWIz7hAx4Yb",
        "outputId": "1256ff90-b9a3-4ec4-a570-be65766ce39f",
        "colab": {
          "base_uri": "https://localhost:8080/"
        }
      },
      "source": [
        "# fit data to model\n",
        "bt_default = model.fit(X_train,\n",
        "                      y_train, \n",
        "                      epochs=25,\n",
        "                      batch_size=32,\n",
        "                      validation_data=(X_test, y_test)\n",
        "                      )\n"
      ],
      "execution_count": 12,
      "outputs": [
        {
          "output_type": "stream",
          "text": [
            "Epoch 1/25\n",
            "1875/1875 [==============================] - 3s 2ms/step - loss: 2.1878 - accuracy: 0.3282 - val_loss: 2.0871 - val_accuracy: 0.4702\n",
            "Epoch 2/25\n",
            "1875/1875 [==============================] - 3s 2ms/step - loss: 2.0018 - accuracy: 0.4697 - val_loss: 1.9052 - val_accuracy: 0.4731\n",
            "Epoch 3/25\n",
            "1875/1875 [==============================] - 3s 2ms/step - loss: 1.8279 - accuracy: 0.4838 - val_loss: 1.7311 - val_accuracy: 0.4942\n",
            "Epoch 4/25\n",
            "1875/1875 [==============================] - 3s 2ms/step - loss: 1.6811 - accuracy: 0.4956 - val_loss: 1.6259 - val_accuracy: 0.4936\n",
            "Epoch 5/25\n",
            "1875/1875 [==============================] - 3s 2ms/step - loss: 1.5794 - accuracy: 0.5023 - val_loss: 1.5230 - val_accuracy: 0.5275\n",
            "Epoch 6/25\n",
            "1875/1875 [==============================] - 3s 2ms/step - loss: 1.5101 - accuracy: 0.5170 - val_loss: 1.4624 - val_accuracy: 0.5711\n",
            "Epoch 7/25\n",
            "1875/1875 [==============================] - 3s 2ms/step - loss: 1.4525 - accuracy: 0.5538 - val_loss: 1.4029 - val_accuracy: 0.5670\n",
            "Epoch 8/25\n",
            "1875/1875 [==============================] - 3s 2ms/step - loss: 1.4222 - accuracy: 0.5591 - val_loss: 1.3751 - val_accuracy: 0.5348\n",
            "Epoch 9/25\n",
            "1875/1875 [==============================] - 3s 2ms/step - loss: 1.3567 - accuracy: 0.5796 - val_loss: 1.3130 - val_accuracy: 0.6543\n",
            "Epoch 10/25\n",
            "1875/1875 [==============================] - 3s 2ms/step - loss: 1.3297 - accuracy: 0.6176 - val_loss: 1.3666 - val_accuracy: 0.5978\n",
            "Epoch 11/25\n",
            "1875/1875 [==============================] - 3s 2ms/step - loss: 1.2616 - accuracy: 0.6310 - val_loss: 1.2095 - val_accuracy: 0.6298\n",
            "Epoch 12/25\n",
            "1875/1875 [==============================] - 3s 2ms/step - loss: 1.2233 - accuracy: 0.6251 - val_loss: 1.2408 - val_accuracy: 0.6156\n",
            "Epoch 13/25\n",
            "1875/1875 [==============================] - 3s 2ms/step - loss: 1.1780 - accuracy: 0.6510 - val_loss: 1.1147 - val_accuracy: 0.6745\n",
            "Epoch 14/25\n",
            "1875/1875 [==============================] - 3s 2ms/step - loss: 1.1514 - accuracy: 0.6672 - val_loss: 1.1079 - val_accuracy: 0.6688\n",
            "Epoch 15/25\n",
            "1875/1875 [==============================] - 3s 2ms/step - loss: 1.1180 - accuracy: 0.6585 - val_loss: 1.0691 - val_accuracy: 0.6608\n",
            "Epoch 16/25\n",
            "1875/1875 [==============================] - 4s 2ms/step - loss: 1.1052 - accuracy: 0.6405 - val_loss: 1.0640 - val_accuracy: 0.6579\n",
            "Epoch 17/25\n",
            "1875/1875 [==============================] - 4s 2ms/step - loss: 1.0918 - accuracy: 0.6564 - val_loss: 1.0809 - val_accuracy: 0.6574\n",
            "Epoch 18/25\n",
            "1875/1875 [==============================] - 3s 2ms/step - loss: 1.0650 - accuracy: 0.6707 - val_loss: 1.0477 - val_accuracy: 0.6797\n",
            "Epoch 19/25\n",
            "1875/1875 [==============================] - 3s 2ms/step - loss: 1.0569 - accuracy: 0.6719 - val_loss: 1.0495 - val_accuracy: 0.6696\n",
            "Epoch 20/25\n",
            "1875/1875 [==============================] - 3s 2ms/step - loss: 1.0222 - accuracy: 0.6855 - val_loss: 1.0115 - val_accuracy: 0.6904\n",
            "Epoch 21/25\n",
            "1875/1875 [==============================] - 3s 2ms/step - loss: 1.0228 - accuracy: 0.6816 - val_loss: 1.0167 - val_accuracy: 0.6692\n",
            "Epoch 22/25\n",
            "1875/1875 [==============================] - 3s 2ms/step - loss: 1.0001 - accuracy: 0.6757 - val_loss: 0.9751 - val_accuracy: 0.6938\n",
            "Epoch 23/25\n",
            "1875/1875 [==============================] - 3s 2ms/step - loss: 0.9964 - accuracy: 0.6880 - val_loss: 1.0284 - val_accuracy: 0.6795\n",
            "Epoch 24/25\n",
            "1875/1875 [==============================] - 3s 2ms/step - loss: 0.9978 - accuracy: 0.6893 - val_loss: 0.9696 - val_accuracy: 0.7030\n",
            "Epoch 25/25\n",
            "1875/1875 [==============================] - 3s 2ms/step - loss: 0.9984 - accuracy: 0.7067 - val_loss: 0.9561 - val_accuracy: 0.7069\n"
          ],
          "name": "stdout"
        }
      ]
    },
    {
      "cell_type": "markdown",
      "metadata": {
        "id": "qCnUuNQiyvvq"
      },
      "source": [
        "## Small Batch Experiment"
      ]
    },
    {
      "cell_type": "code",
      "metadata": {
        "id": "Mu-Ou0HHy-OI"
      },
      "source": [
        "# instantiate model\n",
        "model = Sequential([\n",
        "                    Dense(5, activation='sigmoid', input_dim=784),\n",
        "                    Dense(5, activation='sigmoid'),\n",
        "                    Dense(10, activation='softmax')\n",
        "])\n",
        "\n",
        "\n",
        "# compile model\n",
        "model.compile(optimizer=SGD(), \n",
        "               loss='sparse_categorical_crossentropy', \n",
        "               metrics=['accuracy']\n",
        "               )\n"
      ],
      "execution_count": 13,
      "outputs": []
    },
    {
      "cell_type": "code",
      "metadata": {
        "id": "Qlg7J_-Yyu4K",
        "outputId": "780bfba0-1b40-423a-92a1-91c918e5f922",
        "colab": {
          "base_uri": "https://localhost:8080/"
        }
      },
      "source": [
        "# fit data to model\n",
        "bt_small = model.fit(X_train,\n",
        "                      y_train, \n",
        "                      epochs=25,\n",
        "                      batch_size=8,\n",
        "                      validation_data=(X_test, y_test)\n",
        "                      )"
      ],
      "execution_count": 14,
      "outputs": [
        {
          "output_type": "stream",
          "text": [
            "Epoch 1/25\n",
            "    1/60000 [..............................] - ETA: 23s - loss: 2.2162 - accuracy: 0.0000e+00WARNING:tensorflow:Callbacks method `on_train_batch_end` is slow compared to the batch time (batch time: 0.0015s vs `on_train_batch_end` time: 0.0023s). Check your callbacks.\n",
            "60000/60000 [==============================] - 101s 2ms/step - loss: 2.1365 - accuracy: 0.1870 - val_loss: 2.0470 - val_accuracy: 0.2066\n",
            "Epoch 2/25\n",
            "60000/60000 [==============================] - 103s 2ms/step - loss: 2.0920 - accuracy: 0.1949 - val_loss: 2.0250 - val_accuracy: 0.2085\n",
            "Epoch 3/25\n",
            "60000/60000 [==============================] - 101s 2ms/step - loss: 2.1690 - accuracy: 0.1584 - val_loss: 2.1508 - val_accuracy: 0.1664\n",
            "Epoch 4/25\n",
            "60000/60000 [==============================] - 101s 2ms/step - loss: 2.1277 - accuracy: 0.1724 - val_loss: 2.0715 - val_accuracy: 0.1937\n",
            "Epoch 5/25\n",
            "60000/60000 [==============================] - 102s 2ms/step - loss: 2.0861 - accuracy: 0.1971 - val_loss: 2.0711 - val_accuracy: 0.2067\n",
            "Epoch 6/25\n",
            "60000/60000 [==============================] - 102s 2ms/step - loss: 2.0672 - accuracy: 0.2035 - val_loss: 2.0457 - val_accuracy: 0.2108\n",
            "Epoch 7/25\n",
            "60000/60000 [==============================] - 102s 2ms/step - loss: 2.0318 - accuracy: 0.2065 - val_loss: 2.0227 - val_accuracy: 0.2078\n",
            "Epoch 8/25\n",
            "60000/60000 [==============================] - 102s 2ms/step - loss: 2.1968 - accuracy: 0.1496 - val_loss: 2.2975 - val_accuracy: 0.1070\n",
            "Epoch 9/25\n",
            "60000/60000 [==============================] - 104s 2ms/step - loss: 2.2975 - accuracy: 0.1108 - val_loss: 2.2984 - val_accuracy: 0.1049\n",
            "Epoch 10/25\n",
            "60000/60000 [==============================] - 101s 2ms/step - loss: 2.2962 - accuracy: 0.1108 - val_loss: 2.2990 - val_accuracy: 0.1168\n",
            "Epoch 11/25\n",
            "60000/60000 [==============================] - 100s 2ms/step - loss: 2.1682 - accuracy: 0.1774 - val_loss: 1.9944 - val_accuracy: 0.2602\n",
            "Epoch 12/25\n",
            "60000/60000 [==============================] - 102s 2ms/step - loss: 2.1380 - accuracy: 0.1854 - val_loss: 2.3052 - val_accuracy: 0.1018\n",
            "Epoch 13/25\n",
            "60000/60000 [==============================] - 101s 2ms/step - loss: 2.2978 - accuracy: 0.1129 - val_loss: 2.2878 - val_accuracy: 0.1252\n",
            "Epoch 14/25\n",
            "60000/60000 [==============================] - 101s 2ms/step - loss: 2.1993 - accuracy: 0.1480 - val_loss: 2.0084 - val_accuracy: 0.1987\n",
            "Epoch 15/25\n",
            "60000/60000 [==============================] - 105s 2ms/step - loss: 2.1012 - accuracy: 0.1774 - val_loss: 2.0120 - val_accuracy: 0.2001\n",
            "Epoch 16/25\n",
            "60000/60000 [==============================] - 104s 2ms/step - loss: 2.0900 - accuracy: 0.1904 - val_loss: 2.1304 - val_accuracy: 0.1934\n",
            "Epoch 17/25\n",
            "60000/60000 [==============================] - 103s 2ms/step - loss: 2.1305 - accuracy: 0.1907 - val_loss: 2.0511 - val_accuracy: 0.1931\n",
            "Epoch 18/25\n",
            "60000/60000 [==============================] - 106s 2ms/step - loss: 2.0909 - accuracy: 0.1810 - val_loss: 2.0638 - val_accuracy: 0.1941\n",
            "Epoch 19/25\n",
            "60000/60000 [==============================] - 103s 2ms/step - loss: 2.1676 - accuracy: 0.1636 - val_loss: 2.1818 - val_accuracy: 0.1532\n",
            "Epoch 20/25\n",
            "60000/60000 [==============================] - 104s 2ms/step - loss: 2.1705 - accuracy: 0.1596 - val_loss: 2.1748 - val_accuracy: 0.1516\n",
            "Epoch 21/25\n",
            "60000/60000 [==============================] - 106s 2ms/step - loss: 2.1320 - accuracy: 0.1673 - val_loss: 1.9741 - val_accuracy: 0.2086\n",
            "Epoch 22/25\n",
            "60000/60000 [==============================] - 103s 2ms/step - loss: 2.0119 - accuracy: 0.2018 - val_loss: 2.1327 - val_accuracy: 0.1696\n",
            "Epoch 23/25\n",
            "60000/60000 [==============================] - 104s 2ms/step - loss: 2.1296 - accuracy: 0.1738 - val_loss: 2.1078 - val_accuracy: 0.1770\n",
            "Epoch 24/25\n",
            "60000/60000 [==============================] - 106s 2ms/step - loss: 2.1762 - accuracy: 0.1566 - val_loss: 2.1821 - val_accuracy: 0.1477\n",
            "Epoch 25/25\n",
            "60000/60000 [==============================] - 104s 2ms/step - loss: 2.1315 - accuracy: 0.1688 - val_loss: 2.0032 - val_accuracy: 0.1988\n"
          ],
          "name": "stdout"
        }
      ]
    },
    {
      "cell_type": "markdown",
      "metadata": {
        "id": "hP-tqIPwzOb4"
      },
      "source": [
        "## Large Batch Experiment"
      ]
    },
    {
      "cell_type": "code",
      "metadata": {
        "id": "A1uJWbqYyuen"
      },
      "source": [
        "# instantiate model\n",
        "model = Sequential([\n",
        "                    Dense(5, activation='sigmoid', input_dim=784),\n",
        "                    Dense(5, activation='sigmoid'),\n",
        "                    Dense(10, activation='softmax')\n",
        "])\n",
        "\n",
        "\n",
        "# compile model\n",
        "model.compile(optimizer=SGD(), \n",
        "               loss='sparse_categorical_crossentropy', \n",
        "               metrics=['accuracy']\n",
        "               )"
      ],
      "execution_count": 15,
      "outputs": []
    },
    {
      "cell_type": "code",
      "metadata": {
        "id": "I3myYSkzzN2K",
        "outputId": "8150cd5c-50f4-442a-e6d9-69d835d3a085",
        "colab": {
          "base_uri": "https://localhost:8080/"
        }
      },
      "source": [
        "# fit data to model\n",
        "bt_large = model.fit(X_train,\n",
        "                      y_train, \n",
        "                      epochs=25,\n",
        "                      batch_size=500,\n",
        "                      validation_data=(X_test, y_test)\n",
        "                      )"
      ],
      "execution_count": 16,
      "outputs": [
        {
          "output_type": "stream",
          "text": [
            "Epoch 1/25\n",
            "600/600 [==============================] - 1s 2ms/step - loss: 2.2934 - accuracy: 0.1027 - val_loss: 2.2452 - val_accuracy: 0.1302\n",
            "Epoch 2/25\n",
            "600/600 [==============================] - 1s 2ms/step - loss: 2.2245 - accuracy: 0.2043 - val_loss: 2.2039 - val_accuracy: 0.3568\n",
            "Epoch 3/25\n",
            "600/600 [==============================] - 1s 2ms/step - loss: 2.1791 - accuracy: 0.3565 - val_loss: 2.1502 - val_accuracy: 0.3659\n",
            "Epoch 4/25\n",
            "600/600 [==============================] - 1s 2ms/step - loss: 2.1241 - accuracy: 0.3715 - val_loss: 2.0931 - val_accuracy: 0.3758\n",
            "Epoch 5/25\n",
            "600/600 [==============================] - 1s 2ms/step - loss: 2.0632 - accuracy: 0.3776 - val_loss: 2.0296 - val_accuracy: 0.3731\n",
            "Epoch 6/25\n",
            "600/600 [==============================] - 1s 2ms/step - loss: 1.9977 - accuracy: 0.3891 - val_loss: 1.9665 - val_accuracy: 0.3935\n",
            "Epoch 7/25\n",
            "600/600 [==============================] - 1s 2ms/step - loss: 1.9321 - accuracy: 0.3837 - val_loss: 1.9018 - val_accuracy: 0.3846\n",
            "Epoch 8/25\n",
            "600/600 [==============================] - 1s 2ms/step - loss: 1.8665 - accuracy: 0.4476 - val_loss: 1.8350 - val_accuracy: 0.4753\n",
            "Epoch 9/25\n",
            "600/600 [==============================] - 1s 2ms/step - loss: 1.8055 - accuracy: 0.4928 - val_loss: 1.7725 - val_accuracy: 0.5243\n",
            "Epoch 10/25\n",
            "600/600 [==============================] - 1s 2ms/step - loss: 1.7453 - accuracy: 0.5300 - val_loss: 1.7172 - val_accuracy: 0.5244\n",
            "Epoch 11/25\n",
            "600/600 [==============================] - 1s 2ms/step - loss: 1.6928 - accuracy: 0.5384 - val_loss: 1.6699 - val_accuracy: 0.5433\n",
            "Epoch 12/25\n",
            "600/600 [==============================] - 1s 2ms/step - loss: 1.6399 - accuracy: 0.5489 - val_loss: 1.6165 - val_accuracy: 0.5382\n",
            "Epoch 13/25\n",
            "600/600 [==============================] - 1s 2ms/step - loss: 1.5955 - accuracy: 0.5517 - val_loss: 1.5799 - val_accuracy: 0.5555\n",
            "Epoch 14/25\n",
            "600/600 [==============================] - 1s 2ms/step - loss: 1.5516 - accuracy: 0.5569 - val_loss: 1.5337 - val_accuracy: 0.5746\n",
            "Epoch 15/25\n",
            "600/600 [==============================] - 1s 2ms/step - loss: 1.5120 - accuracy: 0.5695 - val_loss: 1.4927 - val_accuracy: 0.5793\n",
            "Epoch 16/25\n",
            "600/600 [==============================] - 1s 2ms/step - loss: 1.4776 - accuracy: 0.5654 - val_loss: 1.4696 - val_accuracy: 0.5608\n",
            "Epoch 17/25\n",
            "600/600 [==============================] - 1s 2ms/step - loss: 1.4378 - accuracy: 0.5677 - val_loss: 1.4178 - val_accuracy: 0.5708\n",
            "Epoch 18/25\n",
            "600/600 [==============================] - 1s 2ms/step - loss: 1.4047 - accuracy: 0.5710 - val_loss: 1.4074 - val_accuracy: 0.5543\n",
            "Epoch 19/25\n",
            "600/600 [==============================] - 1s 2ms/step - loss: 1.3750 - accuracy: 0.5741 - val_loss: 1.3619 - val_accuracy: 0.5851\n",
            "Epoch 20/25\n",
            "600/600 [==============================] - 1s 2ms/step - loss: 1.3458 - accuracy: 0.5844 - val_loss: 1.3504 - val_accuracy: 0.6005\n",
            "Epoch 21/25\n",
            "600/600 [==============================] - 1s 2ms/step - loss: 1.3241 - accuracy: 0.6048 - val_loss: 1.3000 - val_accuracy: 0.6136\n",
            "Epoch 22/25\n",
            "600/600 [==============================] - 1s 2ms/step - loss: 1.3048 - accuracy: 0.6049 - val_loss: 1.2896 - val_accuracy: 0.6111\n",
            "Epoch 23/25\n",
            "600/600 [==============================] - 1s 2ms/step - loss: 1.2803 - accuracy: 0.6147 - val_loss: 1.3096 - val_accuracy: 0.5839\n",
            "Epoch 24/25\n",
            "600/600 [==============================] - 1s 2ms/step - loss: 1.2596 - accuracy: 0.6185 - val_loss: 1.2439 - val_accuracy: 0.6222\n",
            "Epoch 25/25\n",
            "600/600 [==============================] - 1s 2ms/step - loss: 1.2479 - accuracy: 0.6174 - val_loss: 1.2260 - val_accuracy: 0.6219\n"
          ],
          "name": "stdout"
        }
      ]
    },
    {
      "cell_type": "markdown",
      "metadata": {
        "id": "eHeiey0oBtat"
      },
      "source": [
        "## Visualize Results"
      ]
    },
    {
      "cell_type": "code",
      "metadata": {
        "id": "9CDkaWAx2nXg"
      },
      "source": [
        "import seaborn as sns\n",
        "import pandas as pd"
      ],
      "execution_count": 20,
      "outputs": []
    },
    {
      "cell_type": "code",
      "metadata": {
        "id": "zZYevpaw2kQJ"
      },
      "source": [
        "# # create dataframe containing batch results\n",
        "# results = pd.Dataframe()\n",
        "\n",
        "# for r in enumerate([bt_default, bt_small, bt_large]):\n",
        "\n",
        "#   temp = pd.Datafram.from_dict(r.history)\n",
        "#   temp['epoch'] = temp.index.values\n",
        "#   temp['model'] = i\n",
        "\n",
        "#   results.append(temp, ignore_index=True)\n",
        "\n",
        "# results.head()\n"
      ],
      "execution_count": 18,
      "outputs": []
    },
    {
      "cell_type": "code",
      "metadata": {
        "id": "nLgoATWT6BvP",
        "outputId": "06476c3d-bb48-4ccf-9316-4ec68ccc9e30",
        "colab": {
          "base_uri": "https://localhost:8080/",
          "height": 199
        }
      },
      "source": [
        "# create dataframe containing batch results\n",
        "default = pd.DataFrame.from_dict(bt_default.history)\n",
        "default['epoch'] = default.index.values\n",
        "default['batch_size'] = 'default 32'\n",
        "\n",
        "small = pd.DataFrame.from_dict(bt_small.history)\n",
        "small['epoch'] = small.index.values\n",
        "small['batch_size'] = 'small 8'\n",
        "\n",
        "large = pd.DataFrame.from_dict(bt_large.history)\n",
        "large['epoch'] = large.index.values\n",
        "large['batch_size'] = 'large 500'\n",
        "\n",
        "results = pd.concat([default, small, large])\n",
        "results['batch_size'] = results['batch_size'].astype('str')\n",
        "results.head()"
      ],
      "execution_count": 23,
      "outputs": [
        {
          "output_type": "execute_result",
          "data": {
            "text/html": [
              "<div>\n",
              "<style scoped>\n",
              "    .dataframe tbody tr th:only-of-type {\n",
              "        vertical-align: middle;\n",
              "    }\n",
              "\n",
              "    .dataframe tbody tr th {\n",
              "        vertical-align: top;\n",
              "    }\n",
              "\n",
              "    .dataframe thead th {\n",
              "        text-align: right;\n",
              "    }\n",
              "</style>\n",
              "<table border=\"1\" class=\"dataframe\">\n",
              "  <thead>\n",
              "    <tr style=\"text-align: right;\">\n",
              "      <th></th>\n",
              "      <th>loss</th>\n",
              "      <th>accuracy</th>\n",
              "      <th>val_loss</th>\n",
              "      <th>val_accuracy</th>\n",
              "      <th>epoch</th>\n",
              "      <th>batch_size</th>\n",
              "    </tr>\n",
              "  </thead>\n",
              "  <tbody>\n",
              "    <tr>\n",
              "      <th>0</th>\n",
              "      <td>2.187817</td>\n",
              "      <td>0.328217</td>\n",
              "      <td>2.087076</td>\n",
              "      <td>0.4702</td>\n",
              "      <td>0</td>\n",
              "      <td>default 32</td>\n",
              "    </tr>\n",
              "    <tr>\n",
              "      <th>1</th>\n",
              "      <td>2.001764</td>\n",
              "      <td>0.469650</td>\n",
              "      <td>1.905215</td>\n",
              "      <td>0.4731</td>\n",
              "      <td>1</td>\n",
              "      <td>default 32</td>\n",
              "    </tr>\n",
              "    <tr>\n",
              "      <th>2</th>\n",
              "      <td>1.827909</td>\n",
              "      <td>0.483800</td>\n",
              "      <td>1.731128</td>\n",
              "      <td>0.4942</td>\n",
              "      <td>2</td>\n",
              "      <td>default 32</td>\n",
              "    </tr>\n",
              "    <tr>\n",
              "      <th>3</th>\n",
              "      <td>1.681106</td>\n",
              "      <td>0.495600</td>\n",
              "      <td>1.625873</td>\n",
              "      <td>0.4936</td>\n",
              "      <td>3</td>\n",
              "      <td>default 32</td>\n",
              "    </tr>\n",
              "    <tr>\n",
              "      <th>4</th>\n",
              "      <td>1.579352</td>\n",
              "      <td>0.502300</td>\n",
              "      <td>1.523010</td>\n",
              "      <td>0.5275</td>\n",
              "      <td>4</td>\n",
              "      <td>default 32</td>\n",
              "    </tr>\n",
              "  </tbody>\n",
              "</table>\n",
              "</div>"
            ],
            "text/plain": [
              "       loss  accuracy  val_loss  val_accuracy  epoch  batch_size\n",
              "0  2.187817  0.328217  2.087076        0.4702      0  default 32\n",
              "1  2.001764  0.469650  1.905215        0.4731      1  default 32\n",
              "2  1.827909  0.483800  1.731128        0.4942      2  default 32\n",
              "3  1.681106  0.495600  1.625873        0.4936      3  default 32\n",
              "4  1.579352  0.502300  1.523010        0.5275      4  default 32"
            ]
          },
          "metadata": {
            "tags": []
          },
          "execution_count": 23
        }
      ]
    },
    {
      "cell_type": "code",
      "metadata": {
        "id": "0VrgxEsI68tt",
        "outputId": "0e5b5152-43f2-4a2a-a1f3-7e7636b2a5d7",
        "colab": {
          "base_uri": "https://localhost:8080/",
          "height": 279
        }
      },
      "source": [
        "# map results of learning rate 0.01 for default, small, & large batch sizes\n",
        "\n",
        "sns.lineplot(x='epoch', y='val_accuracy', hue='batch_size', data=results);\n"
      ],
      "execution_count": 24,
      "outputs": [
        {
          "output_type": "display_data",
          "data": {
            "image/png": "[encoded data removed]",
            "text/plain": [
              "<Figure size 432x288 with 1 Axes>"
            ]
          },
          "metadata": {
            "tags": [],
            "needs_background": "light"
          }
        }
      ]
    },
    {
      "cell_type": "code",
      "metadata": {
        "id": "dq_r0h-I8VuA",
        "outputId": "66650913-abf3-4876-d7d6-60e6de482f2f",
        "colab": {
          "base_uri": "https://localhost:8080/",
          "height": 279
        }
      },
      "source": [
        "\n",
        "sns.lineplot(x='epoch', y='val_loss', hue='batch_size', data=results);\n"
      ],
      "execution_count": 25,
      "outputs": [
        {
          "output_type": "display_data",
          "data": {
            "image/png": "[encoded data removed]",
            "text/plain": [
              "<Figure size 432x288 with 1 Axes>"
            ]
          },
          "metadata": {
            "tags": [],
            "needs_background": "light"
          }
        }
      ]
    },
    {
      "cell_type": "markdown",
      "metadata": {
        "id": "klWcFpxL9_-3"
      },
      "source": [
        "## Learning Rate\n",
        "controls the size of the update to our weights that the optimization algorithim makes\n",
        "*  when too high - causes unstable results\n",
        "*  when too low - learning rate will never 'converge'\n",
        "*  Goldy Locks paramater (it needs to be just right)\n",
        "\n",
        "repeat same experiment with diferent learning rates\n",
        "*  High learning rate - 0.75\n",
        "*  Default learning rate - 0.01\n",
        "*  Low learning rate - 0.0001\n",
        "\n"
      ]
    },
    {
      "cell_type": "markdown",
      "metadata": {
        "id": "2WeqyDcuAjHm"
      },
      "source": [
        "## Default Learning Rate"
      ]
    },
    {
      "cell_type": "code",
      "metadata": {
        "id": "X9Npn11Q-AdD"
      },
      "source": [
        "model_sgd = SGD(\n",
        "    learning_rate=0.01,\n",
        ")"
      ],
      "execution_count": 26,
      "outputs": []
    },
    {
      "cell_type": "code",
      "metadata": {
        "id": "RU1k7iy0AY4E"
      },
      "source": [
        "# instantiate model\n",
        "model = Sequential([\n",
        "                    Dense(5, activation='sigmoid', input_dim=784),\n",
        "                    Dense(5, activation='sigmoid'),\n",
        "                    Dense(10, activation='softmax')\n",
        "])\n",
        "\n",
        "\n",
        "# compile model\n",
        "model.compile(optimizer=SGD(), \n",
        "               loss='sparse_categorical_crossentropy', \n",
        "               metrics=['accuracy']\n",
        "               )"
      ],
      "execution_count": 27,
      "outputs": []
    },
    {
      "cell_type": "code",
      "metadata": {
        "id": "UO-cJqqjAdew",
        "outputId": "57ed79dd-7339-4641-b24a-a474529e5041",
        "colab": {
          "base_uri": "https://localhost:8080/"
        }
      },
      "source": [
        "# fit data to model\n",
        "lr_default = model.fit(X_train,\n",
        "                      y_train, \n",
        "                      epochs=25,\n",
        "                      batch_size=64,\n",
        "                      validation_data=(X_test, y_test)\n",
        "                      )"
      ],
      "execution_count": 28,
      "outputs": [
        {
          "output_type": "stream",
          "text": [
            "Epoch 1/25\n",
            "938/938 [==============================] - 2s 2ms/step - loss: 2.2319 - accuracy: 0.2019 - val_loss: 2.1503 - val_accuracy: 0.3078\n",
            "Epoch 2/25\n",
            "938/938 [==============================] - 2s 2ms/step - loss: 2.1056 - accuracy: 0.3587 - val_loss: 2.0557 - val_accuracy: 0.3937\n",
            "Epoch 3/25\n",
            "938/938 [==============================] - 2s 2ms/step - loss: 2.0096 - accuracy: 0.4004 - val_loss: 1.9624 - val_accuracy: 0.4056\n",
            "Epoch 4/25\n",
            "938/938 [==============================] - 2s 2ms/step - loss: 1.9170 - accuracy: 0.4370 - val_loss: 1.8687 - val_accuracy: 0.4495\n",
            "Epoch 5/25\n",
            "938/938 [==============================] - 2s 2ms/step - loss: 1.8320 - accuracy: 0.4536 - val_loss: 1.7869 - val_accuracy: 0.4598\n",
            "Epoch 6/25\n",
            "938/938 [==============================] - 2s 2ms/step - loss: 1.7529 - accuracy: 0.4735 - val_loss: 1.7086 - val_accuracy: 0.4700\n",
            "Epoch 7/25\n",
            "938/938 [==============================] - 2s 2ms/step - loss: 1.6844 - accuracy: 0.4772 - val_loss: 1.6401 - val_accuracy: 0.5414\n",
            "Epoch 8/25\n",
            "938/938 [==============================] - 2s 2ms/step - loss: 1.6197 - accuracy: 0.5202 - val_loss: 1.6039 - val_accuracy: 0.5541\n",
            "Epoch 9/25\n",
            "938/938 [==============================] - 2s 2ms/step - loss: 1.5633 - accuracy: 0.5549 - val_loss: 1.5309 - val_accuracy: 0.5904\n",
            "Epoch 10/25\n",
            "938/938 [==============================] - 2s 2ms/step - loss: 1.5105 - accuracy: 0.5782 - val_loss: 1.4841 - val_accuracy: 0.5844\n",
            "Epoch 11/25\n",
            "938/938 [==============================] - 2s 2ms/step - loss: 1.4540 - accuracy: 0.6001 - val_loss: 1.4275 - val_accuracy: 0.6141\n",
            "Epoch 12/25\n",
            "938/938 [==============================] - 2s 2ms/step - loss: 1.4156 - accuracy: 0.5955 - val_loss: 1.3647 - val_accuracy: 0.6268\n",
            "Epoch 13/25\n",
            "938/938 [==============================] - 2s 2ms/step - loss: 1.3759 - accuracy: 0.6064 - val_loss: 1.3423 - val_accuracy: 0.6019\n",
            "Epoch 14/25\n",
            "938/938 [==============================] - 2s 2ms/step - loss: 1.3395 - accuracy: 0.6062 - val_loss: 1.3043 - val_accuracy: 0.6467\n",
            "Epoch 15/25\n",
            "938/938 [==============================] - 2s 2ms/step - loss: 1.3051 - accuracy: 0.6158 - val_loss: 1.2782 - val_accuracy: 0.6188\n",
            "Epoch 16/25\n",
            "938/938 [==============================] - 2s 2ms/step - loss: 1.2691 - accuracy: 0.6281 - val_loss: 1.2433 - val_accuracy: 0.6233\n",
            "Epoch 17/25\n",
            "938/938 [==============================] - 2s 2ms/step - loss: 1.2594 - accuracy: 0.6236 - val_loss: 1.2330 - val_accuracy: 0.6343\n",
            "Epoch 18/25\n",
            "938/938 [==============================] - 2s 2ms/step - loss: 1.2421 - accuracy: 0.6192 - val_loss: 1.2525 - val_accuracy: 0.6229\n",
            "Epoch 19/25\n",
            "938/938 [==============================] - 2s 2ms/step - loss: 1.2212 - accuracy: 0.6341 - val_loss: 1.2071 - val_accuracy: 0.6278\n",
            "Epoch 20/25\n",
            "938/938 [==============================] - 2s 2ms/step - loss: 1.1991 - accuracy: 0.6312 - val_loss: 1.1612 - val_accuracy: 0.6685\n",
            "Epoch 21/25\n",
            "938/938 [==============================] - 2s 2ms/step - loss: 1.1691 - accuracy: 0.6475 - val_loss: 1.1601 - val_accuracy: 0.6559\n",
            "Epoch 22/25\n",
            "938/938 [==============================] - 2s 2ms/step - loss: 1.1703 - accuracy: 0.6472 - val_loss: 1.1630 - val_accuracy: 0.6305\n",
            "Epoch 23/25\n",
            "938/938 [==============================] - 2s 2ms/step - loss: 1.1484 - accuracy: 0.6518 - val_loss: 1.1243 - val_accuracy: 0.6669\n",
            "Epoch 24/25\n",
            "938/938 [==============================] - 2s 2ms/step - loss: 1.1356 - accuracy: 0.6552 - val_loss: 1.1418 - val_accuracy: 0.6457\n",
            "Epoch 25/25\n",
            "938/938 [==============================] - 2s 2ms/step - loss: 1.1042 - accuracy: 0.6688 - val_loss: 1.0716 - val_accuracy: 0.7007\n"
          ],
          "name": "stdout"
        }
      ]
    },
    {
      "cell_type": "markdown",
      "metadata": {
        "id": "nech-V2qA9TI"
      },
      "source": [
        "## High Learning Rate"
      ]
    },
    {
      "cell_type": "code",
      "metadata": {
        "id": "jdA5omA9A74z"
      },
      "source": [
        "model_sgd = SGD(\n",
        "    learning_rate=0.75,\n",
        ")"
      ],
      "execution_count": 29,
      "outputs": []
    },
    {
      "cell_type": "code",
      "metadata": {
        "id": "Yoz5Se9xA8Nn"
      },
      "source": [
        "# instantiate model\n",
        "model = Sequential([\n",
        "                    Dense(5, activation='sigmoid', input_dim=784),\n",
        "                    Dense(5, activation='sigmoid'),\n",
        "                    Dense(10, activation='softmax')\n",
        "])\n",
        "\n",
        "\n",
        "# compile model\n",
        "model.compile(optimizer=SGD(), \n",
        "               loss='sparse_categorical_crossentropy', \n",
        "               metrics=['accuracy']\n",
        "               )"
      ],
      "execution_count": 30,
      "outputs": []
    },
    {
      "cell_type": "code",
      "metadata": {
        "id": "uAIITTWhA8mi",
        "outputId": "bb816c6e-ac20-410f-8d00-1d725810ad09",
        "colab": {
          "base_uri": "https://localhost:8080/"
        }
      },
      "source": [
        "# fit data to model\n",
        "lr_high = model.fit(X_train,\n",
        "                      y_train, \n",
        "                      epochs=25,\n",
        "                      batch_size=64,\n",
        "                      validation_data=(X_test, y_test)\n",
        "                      )"
      ],
      "execution_count": 32,
      "outputs": [
        {
          "output_type": "stream",
          "text": [
            "Epoch 1/25\n",
            "938/938 [==============================] - 2s 2ms/step - loss: 1.0366 - accuracy: 0.6706 - val_loss: 1.0023 - val_accuracy: 0.6810\n",
            "Epoch 2/25\n",
            "938/938 [==============================] - 2s 2ms/step - loss: 1.0191 - accuracy: 0.6792 - val_loss: 1.0281 - val_accuracy: 0.6721\n",
            "Epoch 3/25\n",
            "938/938 [==============================] - 2s 2ms/step - loss: 1.0191 - accuracy: 0.6876 - val_loss: 1.0130 - val_accuracy: 0.7138\n",
            "Epoch 4/25\n",
            "938/938 [==============================] - 2s 2ms/step - loss: 0.9870 - accuracy: 0.6902 - val_loss: 0.9804 - val_accuracy: 0.6847\n",
            "Epoch 5/25\n",
            "938/938 [==============================] - 2s 2ms/step - loss: 0.9859 - accuracy: 0.7134 - val_loss: 0.9634 - val_accuracy: 0.7007\n",
            "Epoch 6/25\n",
            "938/938 [==============================] - 2s 2ms/step - loss: 0.9686 - accuracy: 0.6949 - val_loss: 0.9436 - val_accuracy: 0.6972\n",
            "Epoch 7/25\n",
            "938/938 [==============================] - 2s 2ms/step - loss: 0.9978 - accuracy: 0.6977 - val_loss: 0.9374 - val_accuracy: 0.7265\n",
            "Epoch 8/25\n",
            "938/938 [==============================] - 2s 2ms/step - loss: 0.9625 - accuracy: 0.7058 - val_loss: 0.9534 - val_accuracy: 0.7100\n",
            "Epoch 9/25\n",
            "938/938 [==============================] - 2s 2ms/step - loss: 0.9475 - accuracy: 0.7139 - val_loss: 0.9174 - val_accuracy: 0.7325\n",
            "Epoch 10/25\n",
            "938/938 [==============================] - 2s 2ms/step - loss: 0.9559 - accuracy: 0.7177 - val_loss: 0.9498 - val_accuracy: 0.7193\n",
            "Epoch 11/25\n",
            "938/938 [==============================] - 2s 2ms/step - loss: 0.9310 - accuracy: 0.7366 - val_loss: 0.9298 - val_accuracy: 0.7385\n",
            "Epoch 12/25\n",
            "938/938 [==============================] - 2s 2ms/step - loss: 0.9312 - accuracy: 0.7255 - val_loss: 0.9435 - val_accuracy: 0.7143\n",
            "Epoch 13/25\n",
            "938/938 [==============================] - 2s 2ms/step - loss: 0.9503 - accuracy: 0.7060 - val_loss: 0.9782 - val_accuracy: 0.6950\n",
            "Epoch 14/25\n",
            "938/938 [==============================] - 2s 2ms/step - loss: 0.9356 - accuracy: 0.7183 - val_loss: 0.9298 - val_accuracy: 0.7205\n",
            "Epoch 15/25\n",
            "938/938 [==============================] - 2s 2ms/step - loss: 0.9315 - accuracy: 0.7202 - val_loss: 0.9422 - val_accuracy: 0.7165\n",
            "Epoch 16/25\n",
            "938/938 [==============================] - 2s 2ms/step - loss: 0.9128 - accuracy: 0.7298 - val_loss: 0.8998 - val_accuracy: 0.7434\n",
            "Epoch 17/25\n",
            "938/938 [==============================] - 2s 2ms/step - loss: 0.9154 - accuracy: 0.7268 - val_loss: 0.9370 - val_accuracy: 0.7268\n",
            "Epoch 18/25\n",
            "938/938 [==============================] - 2s 2ms/step - loss: 0.9127 - accuracy: 0.7288 - val_loss: 0.8911 - val_accuracy: 0.7443\n",
            "Epoch 19/25\n",
            "938/938 [==============================] - 2s 2ms/step - loss: 0.9094 - accuracy: 0.7359 - val_loss: 0.8973 - val_accuracy: 0.7423\n",
            "Epoch 20/25\n",
            "938/938 [==============================] - 2s 2ms/step - loss: 0.9014 - accuracy: 0.7379 - val_loss: 0.8901 - val_accuracy: 0.7457\n",
            "Epoch 21/25\n",
            "938/938 [==============================] - 2s 2ms/step - loss: 0.8982 - accuracy: 0.7399 - val_loss: 0.8624 - val_accuracy: 0.7444\n",
            "Epoch 22/25\n",
            "938/938 [==============================] - 2s 2ms/step - loss: 0.8934 - accuracy: 0.7446 - val_loss: 0.8441 - val_accuracy: 0.7592\n",
            "Epoch 23/25\n",
            "938/938 [==============================] - 2s 2ms/step - loss: 0.8808 - accuracy: 0.7391 - val_loss: 0.8521 - val_accuracy: 0.7507\n",
            "Epoch 24/25\n",
            "938/938 [==============================] - 2s 2ms/step - loss: 0.8717 - accuracy: 0.7402 - val_loss: 0.8719 - val_accuracy: 0.7274\n",
            "Epoch 25/25\n",
            "938/938 [==============================] - 2s 2ms/step - loss: 0.8745 - accuracy: 0.7435 - val_loss: 0.8635 - val_accuracy: 0.7596\n"
          ],
          "name": "stdout"
        }
      ]
    },
    {
      "cell_type": "markdown",
      "metadata": {
        "id": "3PmaGEHBBNVq"
      },
      "source": [
        "## Low Learning Rate"
      ]
    },
    {
      "cell_type": "code",
      "metadata": {
        "id": "o0oykfUwBNwA"
      },
      "source": [
        "model_sgd = SGD(\n",
        "    learning_rate=0.0001,\n",
        ")"
      ],
      "execution_count": 33,
      "outputs": []
    },
    {
      "cell_type": "code",
      "metadata": {
        "id": "jC9yu1xxBOFG"
      },
      "source": [
        "# instantiate model\n",
        "model = Sequential([\n",
        "                    Dense(5, activation='sigmoid', input_dim=784),\n",
        "                    Dense(5, activation='sigmoid'),\n",
        "                    Dense(10, activation='softmax')\n",
        "])\n",
        "\n",
        "\n",
        "# compile model\n",
        "model.compile(optimizer=SGD(), \n",
        "               loss='sparse_categorical_crossentropy', \n",
        "               metrics=['accuracy']\n",
        "               )"
      ],
      "execution_count": 34,
      "outputs": []
    },
    {
      "cell_type": "code",
      "metadata": {
        "id": "qhBwrO7JBOiO",
        "outputId": "a5393e26-5894-4a65-e475-41b9a84452a8",
        "colab": {
          "base_uri": "https://localhost:8080/"
        }
      },
      "source": [
        "# fit data to model\n",
        "lr_low = model.fit(X_train,\n",
        "                      y_train, \n",
        "                      epochs=25,\n",
        "                      batch_size=64,\n",
        "                      validation_data=(X_test, y_test)\n",
        "                      )"
      ],
      "execution_count": 35,
      "outputs": [
        {
          "output_type": "stream",
          "text": [
            "Epoch 1/25\n",
            "938/938 [==============================] - 2s 2ms/step - loss: 2.2720 - accuracy: 0.1525 - val_loss: 2.2087 - val_accuracy: 0.2033\n",
            "Epoch 2/25\n",
            "938/938 [==============================] - 2s 2ms/step - loss: 2.1673 - accuracy: 0.2095 - val_loss: 2.1242 - val_accuracy: 0.2161\n",
            "Epoch 3/25\n",
            "938/938 [==============================] - 2s 2ms/step - loss: 2.0750 - accuracy: 0.2210 - val_loss: 2.0269 - val_accuracy: 0.2782\n",
            "Epoch 4/25\n",
            "938/938 [==============================] - 2s 2ms/step - loss: 1.9799 - accuracy: 0.2844 - val_loss: 1.9377 - val_accuracy: 0.2925\n",
            "Epoch 5/25\n",
            "938/938 [==============================] - 2s 2ms/step - loss: 1.8918 - accuracy: 0.3079 - val_loss: 1.8549 - val_accuracy: 0.3323\n",
            "Epoch 6/25\n",
            "938/938 [==============================] - 2s 2ms/step - loss: 1.8190 - accuracy: 0.3489 - val_loss: 1.7875 - val_accuracy: 0.3657\n",
            "Epoch 7/25\n",
            "938/938 [==============================] - 2s 2ms/step - loss: 1.7588 - accuracy: 0.3666 - val_loss: 1.7302 - val_accuracy: 0.3672\n",
            "Epoch 8/25\n",
            "938/938 [==============================] - 2s 2ms/step - loss: 1.7035 - accuracy: 0.3745 - val_loss: 1.6764 - val_accuracy: 0.4350\n",
            "Epoch 9/25\n",
            "938/938 [==============================] - 2s 2ms/step - loss: 1.6468 - accuracy: 0.4565 - val_loss: 1.6283 - val_accuracy: 0.4281\n",
            "Epoch 10/25\n",
            "938/938 [==============================] - 2s 2ms/step - loss: 1.5984 - accuracy: 0.4729 - val_loss: 1.5864 - val_accuracy: 0.5179\n",
            "Epoch 11/25\n",
            "938/938 [==============================] - 2s 2ms/step - loss: 1.5540 - accuracy: 0.5001 - val_loss: 1.5253 - val_accuracy: 0.5461\n",
            "Epoch 12/25\n",
            "938/938 [==============================] - 2s 2ms/step - loss: 1.4998 - accuracy: 0.5274 - val_loss: 1.4973 - val_accuracy: 0.4987\n",
            "Epoch 13/25\n",
            "938/938 [==============================] - 2s 2ms/step - loss: 1.4516 - accuracy: 0.5657 - val_loss: 1.4312 - val_accuracy: 0.5596\n",
            "Epoch 14/25\n",
            "938/938 [==============================] - 2s 2ms/step - loss: 1.4113 - accuracy: 0.5592 - val_loss: 1.3696 - val_accuracy: 0.5890\n",
            "Epoch 15/25\n",
            "938/938 [==============================] - 2s 2ms/step - loss: 1.3628 - accuracy: 0.5768 - val_loss: 1.3489 - val_accuracy: 0.5910\n",
            "Epoch 16/25\n",
            "938/938 [==============================] - 2s 2ms/step - loss: 1.3211 - accuracy: 0.5857 - val_loss: 1.2916 - val_accuracy: 0.5978\n",
            "Epoch 17/25\n",
            "938/938 [==============================] - 2s 2ms/step - loss: 1.2705 - accuracy: 0.6026 - val_loss: 1.2671 - val_accuracy: 0.5945\n",
            "Epoch 18/25\n",
            "938/938 [==============================] - 2s 2ms/step - loss: 1.2357 - accuracy: 0.6004 - val_loss: 1.2120 - val_accuracy: 0.5955\n",
            "Epoch 19/25\n",
            "938/938 [==============================] - 2s 2ms/step - loss: 1.2098 - accuracy: 0.6030 - val_loss: 1.1637 - val_accuracy: 0.6286\n",
            "Epoch 20/25\n",
            "938/938 [==============================] - 2s 2ms/step - loss: 1.1686 - accuracy: 0.6153 - val_loss: 1.1526 - val_accuracy: 0.6106\n",
            "Epoch 21/25\n",
            "938/938 [==============================] - 2s 2ms/step - loss: 1.1450 - accuracy: 0.6102 - val_loss: 1.1408 - val_accuracy: 0.6080\n",
            "Epoch 22/25\n",
            "938/938 [==============================] - 2s 2ms/step - loss: 1.1177 - accuracy: 0.6226 - val_loss: 1.1514 - val_accuracy: 0.6213\n",
            "Epoch 23/25\n",
            "938/938 [==============================] - 2s 2ms/step - loss: 1.1062 - accuracy: 0.6303 - val_loss: 1.0760 - val_accuracy: 0.6349\n",
            "Epoch 24/25\n",
            "938/938 [==============================] - 2s 2ms/step - loss: 1.0795 - accuracy: 0.6276 - val_loss: 1.0469 - val_accuracy: 0.6498\n",
            "Epoch 25/25\n",
            "938/938 [==============================] - 2s 2ms/step - loss: 1.0620 - accuracy: 0.6598 - val_loss: 1.0382 - val_accuracy: 0.6467\n"
          ],
          "name": "stdout"
        }
      ]
    },
    {
      "cell_type": "markdown",
      "metadata": {
        "id": "lRRTKdNdB2yp"
      },
      "source": [
        "## Visualize Results"
      ]
    },
    {
      "cell_type": "code",
      "metadata": {
        "id": "RlBpQ1eQB6KI",
        "outputId": "fa06b2c5-e930-482f-d149-e4cbd253cb5c",
        "colab": {
          "base_uri": "https://localhost:8080/",
          "height": 199
        }
      },
      "source": [
        "# create dataframe containing batch results\n",
        "default = pd.DataFrame.from_dict(bt_default.history)\n",
        "default['epoch'] = default.index.values\n",
        "default['lr_level'] = 'default 0.01'\n",
        "\n",
        "low = pd.DataFrame.from_dict(bt_small.history)\n",
        "low['epoch'] = low.index.values\n",
        "low['lr_level'] = 'low 0.0001'\n",
        "\n",
        "high = pd.DataFrame.from_dict(lr_high.history)\n",
        "high['epoch'] = high.index.values\n",
        "high['lr_level'] = 'high 0.75'\n",
        "\n",
        "results_lr = pd.concat([default, low, high])\n",
        "results_lr['lr_level'] = results_lr['lr_level'].astype('str')\n",
        "results_lr.head()"
      ],
      "execution_count": 45,
      "outputs": [
        {
          "output_type": "execute_result",
          "data": {
            "text/html": [
              "<div>\n",
              "<style scoped>\n",
              "    .dataframe tbody tr th:only-of-type {\n",
              "        vertical-align: middle;\n",
              "    }\n",
              "\n",
              "    .dataframe tbody tr th {\n",
              "        vertical-align: top;\n",
              "    }\n",
              "\n",
              "    .dataframe thead th {\n",
              "        text-align: right;\n",
              "    }\n",
              "</style>\n",
              "<table border=\"1\" class=\"dataframe\">\n",
              "  <thead>\n",
              "    <tr style=\"text-align: right;\">\n",
              "      <th></th>\n",
              "      <th>loss</th>\n",
              "      <th>accuracy</th>\n",
              "      <th>val_loss</th>\n",
              "      <th>val_accuracy</th>\n",
              "      <th>epoch</th>\n",
              "      <th>lr_level</th>\n",
              "    </tr>\n",
              "  </thead>\n",
              "  <tbody>\n",
              "    <tr>\n",
              "      <th>0</th>\n",
              "      <td>2.187817</td>\n",
              "      <td>0.328217</td>\n",
              "      <td>2.087076</td>\n",
              "      <td>0.4702</td>\n",
              "      <td>0</td>\n",
              "      <td>default 0.01</td>\n",
              "    </tr>\n",
              "    <tr>\n",
              "      <th>1</th>\n",
              "      <td>2.001764</td>\n",
              "      <td>0.469650</td>\n",
              "      <td>1.905215</td>\n",
              "      <td>0.4731</td>\n",
              "      <td>1</td>\n",
              "      <td>default 0.01</td>\n",
              "    </tr>\n",
              "    <tr>\n",
              "      <th>2</th>\n",
              "      <td>1.827909</td>\n",
              "      <td>0.483800</td>\n",
              "      <td>1.731128</td>\n",
              "      <td>0.4942</td>\n",
              "      <td>2</td>\n",
              "      <td>default 0.01</td>\n",
              "    </tr>\n",
              "    <tr>\n",
              "      <th>3</th>\n",
              "      <td>1.681106</td>\n",
              "      <td>0.495600</td>\n",
              "      <td>1.625873</td>\n",
              "      <td>0.4936</td>\n",
              "      <td>3</td>\n",
              "      <td>default 0.01</td>\n",
              "    </tr>\n",
              "    <tr>\n",
              "      <th>4</th>\n",
              "      <td>1.579352</td>\n",
              "      <td>0.502300</td>\n",
              "      <td>1.523010</td>\n",
              "      <td>0.5275</td>\n",
              "      <td>4</td>\n",
              "      <td>default 0.01</td>\n",
              "    </tr>\n",
              "  </tbody>\n",
              "</table>\n",
              "</div>"
            ],
            "text/plain": [
              "       loss  accuracy  val_loss  val_accuracy  epoch      lr_level\n",
              "0  2.187817  0.328217  2.087076        0.4702      0  default 0.01\n",
              "1  2.001764  0.469650  1.905215        0.4731      1  default 0.01\n",
              "2  1.827909  0.483800  1.731128        0.4942      2  default 0.01\n",
              "3  1.681106  0.495600  1.625873        0.4936      3  default 0.01\n",
              "4  1.579352  0.502300  1.523010        0.5275      4  default 0.01"
            ]
          },
          "metadata": {
            "tags": []
          },
          "execution_count": 45
        }
      ]
    },
    {
      "cell_type": "code",
      "metadata": {
        "id": "CDbaGdMICnd7",
        "outputId": "c63f27e5-541b-4b8e-c9bd-cd8158a62d6c",
        "colab": {
          "base_uri": "https://localhost:8080/",
          "height": 279
        }
      },
      "source": [
        "# map results of batch size 64 for default, low, & high learning rates\n",
        "\n",
        "sns.lineplot(x='epoch', y='val_accuracy', hue='lr_level', data=results_lr);\n"
      ],
      "execution_count": 47,
      "outputs": [
        {
          "output_type": "display_data",
          "data": {
            "image/png": "[encoded data removed]",
            "text/plain": [
              "<Figure size 432x288 with 1 Axes>"
            ]
          },
          "metadata": {
            "tags": [],
            "needs_background": "light"
          }
        }
      ]
    },
    {
      "cell_type": "code",
      "metadata": {
        "id": "EwWlxIBoDRnL",
        "outputId": "39394847-f5dd-454f-dbf3-9e6d74b82548",
        "colab": {
          "base_uri": "https://localhost:8080/",
          "height": 279
        }
      },
      "source": [
        "sns.lineplot(x='epoch', y='val_loss', hue='lr_level', data=results_lr);\n"
      ],
      "execution_count": 48,
      "outputs": [
        {
          "output_type": "display_data",
          "data": {
            "image/png": "[encoded data removed]",
            "text/plain": [
              "<Figure size 432x288 with 1 Axes>"
            ]
          },
          "metadata": {
            "tags": [],
            "needs_background": "light"
          }
        }
      ]
    }
  ]
}