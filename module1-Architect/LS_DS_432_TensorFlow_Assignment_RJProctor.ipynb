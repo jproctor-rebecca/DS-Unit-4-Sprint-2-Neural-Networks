{
  "nbformat": 4,
  "nbformat_minor": 0,
  "metadata": {
    "colab": {
      "name": "LS_DS_432_TensorFlow_Assignment_RJProctor",
      "provenance": [],
      "collapsed_sections": [],
      "include_colab_link": true
    },
    "kernelspec": {
      "name": "python3",
      "display_name": "Python 3"
    },
    "accelerator": "GPU"
  },
  "cells": [
    {
      "cell_type": "markdown",
      "metadata": {
        "id": "view-in-github",
        "colab_type": "text"
      },
      "source": [
        "<a href=\"https://colab.research.google.com/github/jproctor-rebecca/DS-Unit-4-Sprint-2-Neural-Networks/blob/main/module1-Architect/LS_DS_432_TensorFlow_Assignment_RJProctor.ipynb\" target=\"_parent\"><img src=\"https://colab.research.google.com/assets/colab-badge.svg\" alt=\"Open In Colab\"/></a>"
      ]
    },
    {
      "cell_type": "markdown",
      "metadata": {
        "id": "ObyHCH8HvHSf"
      },
      "source": [
        "<img align=\"left\" src=\"https://lever-client-logos.s3.amazonaws.com/864372b1-534c-480e-acd5-9711f850815c-1524247202159.png\" width=200>\n",
        "<br></br>\n",
        "<br></br>\n",
        "\n",
        "# *Data Science Unit 4 Sprint 2 Assignment 1*\n",
        "\n",
        "Use TensorFlow Keras & a sample of the [Quickdraw dataset](https://github.com/googlecreativelab/quickdraw-dataset) to build a sketch classification model. The dataset has been sampled to only 10 classes and 10000 observations per class. Please build a baseline classification model then run a few experiments with different optimizers and learning rates. \n",
        "\n",
        "*Don't forgot to switch to GPU on Colab!*"
      ]
    },
    {
      "cell_type": "code",
      "metadata": {
        "id": "itd4eEeuDvs_",
        "outputId": "d8365f6d-9827-4834-b5ed-7362c2970c25",
        "colab": {
          "base_uri": "https://localhost:8080/"
        }
      },
      "source": [
        "# run this code to make sure that your colab noteook is using the GPU\n",
        "# the gpu isn't strictly necessary for this lesson\n",
        "# but there are future lessons that will need the accelerated processing of a gpu\n",
        "# see google colab docs for more details: https://colab.research.google.com/notebooks/gpu.ipynb#scrollTo=sXnDmXR7RDr2\n",
        "import tensorflow as tf\n",
        "device_name = tf.test.gpu_device_name()\n",
        "if device_name != '/device:GPU:0':\n",
        "  raise SystemError('GPU device not found')\n",
        "print('Found GPU at: {}'.format(device_name))"
      ],
      "execution_count": 2,
      "outputs": [
        {
          "output_type": "stream",
          "text": [
            "Found GPU at: /device:GPU:0\n"
          ],
          "name": "stdout"
        }
      ]
    },
    {
      "cell_type": "markdown",
      "metadata": {
        "id": "s-Tc3ovEyQ9b"
      },
      "source": [
        "## Load Your Data"
      ]
    },
    {
      "cell_type": "code",
      "metadata": {
        "id": "CkU0pAYCvU8o",
        "outputId": "5082a1d6-3c14-4a96-faca-569adfaaa39f",
        "colab": {
          "base_uri": "https://localhost:8080/"
        }
      },
      "source": [
        "import numpy as np\n",
        "import tensorflow as tf \n",
        "from sklearn.model_selection import train_test_split\n",
        "\n",
        "data = np.load('quickdraw10.npz')\n",
        "X = data['arr_0']\n",
        "y = data['arr_1']\n",
        "\n",
        "X_train, X_test, y_train, y_test = train_test_split(\n",
        "    X, y, test_size=0.20, random_state=42)\n",
        "\n",
        "print(X.shape)\n",
        "print(y_train.shape)\n",
        "print(X.shape)\n",
        "print(y_train.shape)"
      ],
      "execution_count": 4,
      "outputs": [
        {
          "output_type": "stream",
          "text": [
            "(100000, 784)\n",
            "(80000,)\n",
            "(100000, 784)\n",
            "(80000,)\n"
          ],
          "name": "stdout"
        }
      ]
    },
    {
      "cell_type": "code",
      "metadata": {
        "id": "c8qsDqdqvHDd"
      },
      "source": [
        "class_names = ['apple',\n",
        " 'anvil',\n",
        " 'airplane',\n",
        " 'banana',\n",
        " 'The Eiffel Tower',\n",
        " 'The Mona Lisa',\n",
        " 'The Great Wall of China',\n",
        " 'alarm clock',\n",
        " 'ant',\n",
        " 'asparagus']"
      ],
      "execution_count": 5,
      "outputs": []
    },
    {
      "cell_type": "code",
      "metadata": {
        "id": "Owbm1EbxvA5A",
        "outputId": "3b2a5541-4655-4585-f7d5-dadcb83476b6",
        "colab": {
          "base_uri": "https://localhost:8080/",
          "height": 289
        }
      },
      "source": [
        "import matplotlib.pyplot as plt\n",
        "plt.figure(figsize=(10,5))\n",
        "start = 0\n",
        "\n",
        "for num, name in enumerate(class_names):\n",
        "    plt.subplot(2,5, num+1)\n",
        "    plt.xticks([])\n",
        "    plt.yticks([])\n",
        "    plt.grid(False)\n",
        "    plt.imshow(X[start].reshape(28,28), cmap=plt.cm.binary)\n",
        "    plt.xlabel(name)\n",
        "    start += 10000\n",
        "plt.show()"
      ],
      "execution_count": 6,
      "outputs": [
        {
          "output_type": "display_data",
          "data": {
            "image/png": "[encoded data removed]",
            "text/plain": [
              "<Figure size 720x360 with 10 Axes>"
            ]
          },
          "metadata": {
            "tags": []
          }
        }
      ]
    },
    {
      "cell_type": "code",
      "metadata": {
        "id": "c97_M1WNvTNY"
      },
      "source": [
        "# Need this line to randomly shuffle both the X & y at the same time.\n",
        "\n",
        "from sklearn.utils import shuffle\n",
        "X, y = shuffle(X, y)"
      ],
      "execution_count": 7,
      "outputs": []
    },
    {
      "cell_type": "markdown",
      "metadata": {
        "id": "jb70CbLVyK65"
      },
      "source": [
        "## Build Your Baseline Model\n",
        "Some Hints:\n",
        "\n",
        "\n",
        "*  Model should have 784 input values (like mnist)\n",
        "*  Use `sparse_categorical_crossentropy` as your loss function.\n",
        "* You need 10 neurons in your last layer for output\n",
        "* You can add as many hidden layers with as many neurons in them as you like. \n",
        "* Limit your model epochs to 30 each time you fit.\n",
        "* You can use the `validation_split` command to automatically create a training / validation dataset.  Specify a percentage such as .2 in your fit statement. \n",
        "\n"
      ]
    },
    {
      "cell_type": "code",
      "metadata": {
        "id": "zHWblzsMyNkU",
        "outputId": "74544128-a4e5-4f03-b16a-f570e2034e72",
        "colab": {
          "base_uri": "https://localhost:8080/"
        }
      },
      "source": [
        "import tensorflow\n",
        "\n",
        "from tensorflow import keras\n",
        "# mnist is a very common data set to use, it's often use as a benchmark dataset \n",
        "# i.e. whenever someone comes out with the latest state-of-the-art image classifer a data set like mnist will be used to test the model\n",
        "from tensorflow.keras.datasets import mnist\n",
        "from tensorflow.keras.models import Sequential\n",
        "# Dense is the code that handels the full connected forward feeding dynamics of the model that we cover today\n",
        "# i.e. the passing of the weighted sum values in a vector to all the nodes in the next layer \n",
        "from tensorflow.keras.layers import Dense\n",
        "import numpy as np\n",
        "# perceptron \n",
        "# need 10 neurons in last layer for output \n",
        "n_neurons = 10\n",
        "\n",
        "# docs for sequential: https://keras.io/api/models/sequential/\n",
        "# instantiate Sequential - builidng a computational graph one layer at a time \n",
        "model_adam = Sequential()\n",
        "\n",
        "model_adam.add(Dense(n_neurons, # number of neurons in this layer \n",
        "                input_dim=784, # implict input layer, here we need to specify the dims of the input data\n",
        "                activation='sigmoid', # specify the activation function\n",
        "               ))\n",
        "\n",
        "# Use sparse_categorical_crossentropy\n",
        "model_adam.compile(optimizer='adam', # TensorFlow: learning_rate=0.001, beta1=0.9, beta2=0.999, epsilon=1e-08.\n",
        "              loss='sparse_categorical_crossentropy', \n",
        "              metrics='accuracy',\n",
        "              #validation_split=0.2\n",
        "              ) \n",
        "\n",
        "# Limit model epochs to 30 each fit\n",
        "model_adam.fit(X,y, epochs=30)"
      ],
      "execution_count": 8,
      "outputs": [
        {
          "output_type": "stream",
          "text": [
            "Epoch 1/30\n",
            "3125/3125 [==============================] - 5s 2ms/step - loss: 3.8204 - accuracy: 0.1816\n",
            "Epoch 2/30\n",
            "3125/3125 [==============================] - 6s 2ms/step - loss: 3.5330 - accuracy: 0.2113\n",
            "Epoch 3/30\n",
            "3125/3125 [==============================] - 5s 2ms/step - loss: 2.8132 - accuracy: 0.3401\n",
            "Epoch 4/30\n",
            "3125/3125 [==============================] - 5s 2ms/step - loss: 2.5601 - accuracy: 0.3561\n",
            "Epoch 5/30\n",
            "3125/3125 [==============================] - 5s 2ms/step - loss: 2.4503 - accuracy: 0.4127\n",
            "Epoch 6/30\n",
            "3125/3125 [==============================] - 6s 2ms/step - loss: 2.3617 - accuracy: 0.4244\n",
            "Epoch 7/30\n",
            "3125/3125 [==============================] - 5s 2ms/step - loss: 2.2897 - accuracy: 0.4185\n",
            "Epoch 8/30\n",
            "3125/3125 [==============================] - 6s 2ms/step - loss: 2.2404 - accuracy: 0.4311\n",
            "Epoch 9/30\n",
            "3125/3125 [==============================] - 5s 2ms/step - loss: 2.1425 - accuracy: 0.4186\n",
            "Epoch 10/30\n",
            "3125/3125 [==============================] - 5s 2ms/step - loss: 2.1219 - accuracy: 0.4112\n",
            "Epoch 11/30\n",
            "3125/3125 [==============================] - 6s 2ms/step - loss: 2.0889 - accuracy: 0.4099\n",
            "Epoch 12/30\n",
            "3125/3125 [==============================] - 6s 2ms/step - loss: 2.0465 - accuracy: 0.4193\n",
            "Epoch 13/30\n",
            "3125/3125 [==============================] - 6s 2ms/step - loss: 2.0097 - accuracy: 0.4099\n",
            "Epoch 14/30\n",
            "3125/3125 [==============================] - 6s 2ms/step - loss: 2.0537 - accuracy: 0.4063\n",
            "Epoch 15/30\n",
            "3125/3125 [==============================] - 6s 2ms/step - loss: 2.0045 - accuracy: 0.4112\n",
            "Epoch 16/30\n",
            "3125/3125 [==============================] - 6s 2ms/step - loss: 1.9799 - accuracy: 0.4110\n",
            "Epoch 17/30\n",
            "3125/3125 [==============================] - 5s 2ms/step - loss: 1.9751 - accuracy: 0.3981\n",
            "Epoch 18/30\n",
            "3125/3125 [==============================] - 5s 2ms/step - loss: 1.9691 - accuracy: 0.4106\n",
            "Epoch 19/30\n",
            "3125/3125 [==============================] - 6s 2ms/step - loss: 1.9595 - accuracy: 0.4008\n",
            "Epoch 20/30\n",
            "3125/3125 [==============================] - 6s 2ms/step - loss: 1.9240 - accuracy: 0.4082\n",
            "Epoch 21/30\n",
            "3125/3125 [==============================] - 6s 2ms/step - loss: 1.9414 - accuracy: 0.4097\n",
            "Epoch 22/30\n",
            "3125/3125 [==============================] - 5s 2ms/step - loss: 1.9512 - accuracy: 0.4025\n",
            "Epoch 23/30\n",
            "3125/3125 [==============================] - 6s 2ms/step - loss: 1.9385 - accuracy: 0.4007\n",
            "Epoch 24/30\n",
            "3125/3125 [==============================] - 6s 2ms/step - loss: 1.9216 - accuracy: 0.4045\n",
            "Epoch 25/30\n",
            "3125/3125 [==============================] - 6s 2ms/step - loss: 1.9259 - accuracy: 0.4109\n",
            "Epoch 26/30\n",
            "3125/3125 [==============================] - 6s 2ms/step - loss: 1.9270 - accuracy: 0.4028\n",
            "Epoch 27/30\n",
            "3125/3125 [==============================] - 6s 2ms/step - loss: 1.9835 - accuracy: 0.3803\n",
            "Epoch 28/30\n",
            "3125/3125 [==============================] - 6s 2ms/step - loss: 1.9477 - accuracy: 0.3993\n",
            "Epoch 29/30\n",
            "3125/3125 [==============================] - 6s 2ms/step - loss: 1.9672 - accuracy: 0.3931\n",
            "Epoch 30/30\n",
            "3125/3125 [==============================] - 5s 2ms/step - loss: 1.9521 - accuracy: 0.4094\n"
          ],
          "name": "stdout"
        },
        {
          "output_type": "execute_result",
          "data": {
            "text/plain": [
              "<tensorflow.python.keras.callbacks.History at 0x7f1e792ff7b8>"
            ]
          },
          "metadata": {
            "tags": []
          },
          "execution_count": 8
        }
      ]
    },
    {
      "cell_type": "code",
      "metadata": {
        "id": "1l7qYzJFCPsr"
      },
      "source": [
        "# Standardization\n",
        "max_pixal_value = 255. \n",
        "X_train = X_train.astype('float32') / max_pixal_value\n",
        "X_test = X_test.astype('float32') /max_pixal_value"
      ],
      "execution_count": 9,
      "outputs": []
    },
    {
      "cell_type": "code",
      "metadata": {
        "id": "oVXGc7YJBs3N",
        "outputId": "e3d5c0f6-0df9-4c31-ddd4-f01311d11c49",
        "colab": {
          "base_uri": "https://localhost:8080/"
        }
      },
      "source": [
        "# We have flatten our 28 x 28 images into a row vectors with 784 features\n",
        "# 28 * 28 = 784\n",
        "X_train = X_train.reshape((X_train.shape[0], 784))\n",
        "X_test = X_test.reshape((X_test.shape[0], 784))\n",
        "\n",
        "print(X_train.shape)\n",
        "print(X_test.shape)"
      ],
      "execution_count": 10,
      "outputs": [
        {
          "output_type": "stream",
          "text": [
            "(80000, 784)\n",
            "(20000, 784)\n"
          ],
          "name": "stdout"
        }
      ]
    },
    {
      "cell_type": "code",
      "metadata": {
        "id": "dFkLJYCFGO0p",
        "outputId": "a6eb3978-5cf1-4cde-e6e4-d50d262a73f2",
        "colab": {
          "base_uri": "https://localhost:8080/"
        }
      },
      "source": [
        "model_adam.summary()"
      ],
      "execution_count": 11,
      "outputs": [
        {
          "output_type": "stream",
          "text": [
            "Model: \"sequential\"\n",
            "_________________________________________________________________\n",
            "Layer (type)                 Output Shape              Param #   \n",
            "=================================================================\n",
            "dense (Dense)                (None, 10)                7850      \n",
            "=================================================================\n",
            "Total params: 7,850\n",
            "Trainable params: 7,850\n",
            "Non-trainable params: 0\n",
            "_________________________________________________________________\n"
          ],
          "name": "stdout"
        }
      ]
    },
    {
      "cell_type": "code",
      "metadata": {
        "id": "mPgrLjedGlV-",
        "outputId": "b5e3b530-96cc-4cc9-b773-40e3d5fe516f",
        "colab": {
          "base_uri": "https://localhost:8080/"
        }
      },
      "source": [
        "results_adam = model_adam.fit(X_train, \n",
        "                    y_train, \n",
        "                    epochs=30, \n",
        "                    validation_data=(X_test, y_test))"
      ],
      "execution_count": 20,
      "outputs": [
        {
          "output_type": "stream",
          "text": [
            "Epoch 1/30\n",
            "2500/2500 [==============================] - 6s 2ms/step - loss: 0.7987 - accuracy: 0.7682 - val_loss: 0.8175 - val_accuracy: 0.7700\n",
            "Epoch 2/30\n",
            "2500/2500 [==============================] - 6s 2ms/step - loss: 0.7918 - accuracy: 0.7696 - val_loss: 0.8201 - val_accuracy: 0.7667\n",
            "Epoch 3/30\n",
            "2500/2500 [==============================] - 6s 2ms/step - loss: 0.7866 - accuracy: 0.7698 - val_loss: 0.8160 - val_accuracy: 0.7652\n",
            "Epoch 4/30\n",
            "2500/2500 [==============================] - 6s 2ms/step - loss: 0.7829 - accuracy: 0.7716 - val_loss: 0.8085 - val_accuracy: 0.7676\n",
            "Epoch 5/30\n",
            "2500/2500 [==============================] - 6s 2ms/step - loss: 0.7791 - accuracy: 0.7721 - val_loss: 0.8112 - val_accuracy: 0.7662\n",
            "Epoch 6/30\n",
            "2500/2500 [==============================] - 6s 2ms/step - loss: 0.7764 - accuracy: 0.7715 - val_loss: 0.8062 - val_accuracy: 0.7671\n",
            "Epoch 7/30\n",
            "2500/2500 [==============================] - 6s 2ms/step - loss: 0.7733 - accuracy: 0.7722 - val_loss: 0.8066 - val_accuracy: 0.7679\n",
            "Epoch 8/30\n",
            "2500/2500 [==============================] - 7s 3ms/step - loss: 0.7708 - accuracy: 0.7734 - val_loss: 0.8116 - val_accuracy: 0.7645\n",
            "Epoch 9/30\n",
            "2500/2500 [==============================] - 7s 3ms/step - loss: 0.7686 - accuracy: 0.7742 - val_loss: 0.8051 - val_accuracy: 0.7666\n",
            "Epoch 10/30\n",
            "2500/2500 [==============================] - 6s 2ms/step - loss: 0.7665 - accuracy: 0.7737 - val_loss: 0.8030 - val_accuracy: 0.7649\n",
            "Epoch 11/30\n",
            "2500/2500 [==============================] - 6s 3ms/step - loss: 0.7645 - accuracy: 0.7728 - val_loss: 0.8050 - val_accuracy: 0.7646\n",
            "Epoch 12/30\n",
            "2500/2500 [==============================] - 6s 2ms/step - loss: 0.7630 - accuracy: 0.7743 - val_loss: 0.7998 - val_accuracy: 0.7669\n",
            "Epoch 13/30\n",
            "2500/2500 [==============================] - 6s 2ms/step - loss: 0.7615 - accuracy: 0.7739 - val_loss: 0.8127 - val_accuracy: 0.7623\n",
            "Epoch 14/30\n",
            "2500/2500 [==============================] - 6s 2ms/step - loss: 0.7604 - accuracy: 0.7739 - val_loss: 0.8050 - val_accuracy: 0.7633\n",
            "Epoch 15/30\n",
            "2500/2500 [==============================] - 6s 2ms/step - loss: 0.7590 - accuracy: 0.7746 - val_loss: 0.8018 - val_accuracy: 0.7638\n",
            "Epoch 16/30\n",
            "2500/2500 [==============================] - 6s 2ms/step - loss: 0.7579 - accuracy: 0.7740 - val_loss: 0.8027 - val_accuracy: 0.7652\n",
            "Epoch 17/30\n",
            "2500/2500 [==============================] - 6s 2ms/step - loss: 0.7571 - accuracy: 0.7742 - val_loss: 0.8076 - val_accuracy: 0.7636\n",
            "Epoch 18/30\n",
            "2500/2500 [==============================] - 6s 3ms/step - loss: 0.7561 - accuracy: 0.7739 - val_loss: 0.8031 - val_accuracy: 0.7648\n",
            "Epoch 19/30\n",
            "2500/2500 [==============================] - 6s 2ms/step - loss: 0.7548 - accuracy: 0.7748 - val_loss: 0.7983 - val_accuracy: 0.7685\n",
            "Epoch 20/30\n",
            "2500/2500 [==============================] - 6s 2ms/step - loss: 0.7538 - accuracy: 0.7753 - val_loss: 0.8015 - val_accuracy: 0.7667\n",
            "Epoch 21/30\n",
            "2500/2500 [==============================] - 6s 2ms/step - loss: 0.7532 - accuracy: 0.7755 - val_loss: 0.8012 - val_accuracy: 0.7671\n",
            "Epoch 22/30\n",
            "2500/2500 [==============================] - 6s 3ms/step - loss: 0.7523 - accuracy: 0.7754 - val_loss: 0.8035 - val_accuracy: 0.7637\n",
            "Epoch 23/30\n",
            "2500/2500 [==============================] - 6s 2ms/step - loss: 0.7514 - accuracy: 0.7756 - val_loss: 0.8026 - val_accuracy: 0.7646\n",
            "Epoch 24/30\n",
            "2500/2500 [==============================] - 6s 2ms/step - loss: 0.7515 - accuracy: 0.7742 - val_loss: 0.8039 - val_accuracy: 0.7628\n",
            "Epoch 25/30\n",
            "2500/2500 [==============================] - 6s 3ms/step - loss: 0.7501 - accuracy: 0.7748 - val_loss: 0.8008 - val_accuracy: 0.7660\n",
            "Epoch 26/30\n",
            "2500/2500 [==============================] - 6s 2ms/step - loss: 0.7499 - accuracy: 0.7757 - val_loss: 0.8049 - val_accuracy: 0.7636\n",
            "Epoch 27/30\n",
            "2500/2500 [==============================] - 6s 2ms/step - loss: 0.7494 - accuracy: 0.7764 - val_loss: 0.8020 - val_accuracy: 0.7642\n",
            "Epoch 28/30\n",
            "2500/2500 [==============================] - 6s 2ms/step - loss: 0.7491 - accuracy: 0.7757 - val_loss: 0.8043 - val_accuracy: 0.7656\n",
            "Epoch 29/30\n",
            "2500/2500 [==============================] - 6s 3ms/step - loss: 0.7482 - accuracy: 0.7764 - val_loss: 0.8024 - val_accuracy: 0.7645\n",
            "Epoch 30/30\n",
            "2500/2500 [==============================] - 6s 3ms/step - loss: 0.7473 - accuracy: 0.7761 - val_loss: 0.8094 - val_accuracy: 0.7631\n"
          ],
          "name": "stdout"
        }
      ]
    },
    {
      "cell_type": "markdown",
      "metadata": {
        "id": "b0QJURWh-9uv"
      },
      "source": [
        "### Visualize the results\n",
        "\n",
        "Create charts for both loss and accuracy by epoch. Use line graphs for both charts. Analyze the results. \n",
        "\n",
        "At what point should we have stopped training the model and why? "
      ]
    },
    {
      "cell_type": "code",
      "metadata": {
        "id": "KONJtU5wqlXf",
        "outputId": "a6b33314-a02a-469a-d85d-b619425528fe",
        "colab": {
          "base_uri": "https://localhost:8080/"
        }
      },
      "source": [
        "results_adam.history"
      ],
      "execution_count": 21,
      "outputs": [
        {
          "output_type": "execute_result",
          "data": {
            "text/plain": [
              "{'accuracy': [0.7681624889373779,\n",
              "  0.7695624828338623,\n",
              "  0.7698125243186951,\n",
              "  0.7715625166893005,\n",
              "  0.7721250057220459,\n",
              "  0.7715499997138977,\n",
              "  0.7722374796867371,\n",
              "  0.7733500003814697,\n",
              "  0.7741749882698059,\n",
              "  0.7737374901771545,\n",
              "  0.7728250026702881,\n",
              "  0.7743374705314636,\n",
              "  0.7738749980926514,\n",
              "  0.7738875150680542,\n",
              "  0.7745500206947327,\n",
              "  0.7739874720573425,\n",
              "  0.7741749882698059,\n",
              "  0.7739250063896179,\n",
              "  0.7748249769210815,\n",
              "  0.7753000259399414,\n",
              "  0.77548748254776,\n",
              "  0.7754374742507935,\n",
              "  0.775612473487854,\n",
              "  0.7741749882698059,\n",
              "  0.7747874855995178,\n",
              "  0.7756749987602234,\n",
              "  0.7764250040054321,\n",
              "  0.7757124900817871,\n",
              "  0.7763875126838684,\n",
              "  0.7760624885559082],\n",
              " 'loss': [0.7987207174301147,\n",
              "  0.7918203473091125,\n",
              "  0.7865633964538574,\n",
              "  0.7828965187072754,\n",
              "  0.77912437915802,\n",
              "  0.776436448097229,\n",
              "  0.7733409404754639,\n",
              "  0.7708348035812378,\n",
              "  0.7686350345611572,\n",
              "  0.7665311098098755,\n",
              "  0.7645320296287537,\n",
              "  0.7629894018173218,\n",
              "  0.761467695236206,\n",
              "  0.7603604197502136,\n",
              "  0.7589977383613586,\n",
              "  0.7578763961791992,\n",
              "  0.7571136355400085,\n",
              "  0.756070613861084,\n",
              "  0.7547992467880249,\n",
              "  0.7538318634033203,\n",
              "  0.7531524896621704,\n",
              "  0.7522589564323425,\n",
              "  0.7513841986656189,\n",
              "  0.7514747977256775,\n",
              "  0.7501094341278076,\n",
              "  0.7498663067817688,\n",
              "  0.7494352459907532,\n",
              "  0.7491002678871155,\n",
              "  0.7482268214225769,\n",
              "  0.7473047375679016],\n",
              " 'val_accuracy': [0.7699999809265137,\n",
              "  0.766700029373169,\n",
              "  0.7652000188827515,\n",
              "  0.7675999999046326,\n",
              "  0.7662000060081482,\n",
              "  0.7671499848365784,\n",
              "  0.7678999900817871,\n",
              "  0.7644500136375427,\n",
              "  0.7666000127792358,\n",
              "  0.7649499773979187,\n",
              "  0.7646499872207642,\n",
              "  0.7669000029563904,\n",
              "  0.7622500061988831,\n",
              "  0.7633000016212463,\n",
              "  0.7638000249862671,\n",
              "  0.7651500105857849,\n",
              "  0.7635999917984009,\n",
              "  0.7648000121116638,\n",
              "  0.7684500217437744,\n",
              "  0.7666500210762024,\n",
              "  0.7671499848365784,\n",
              "  0.7636500000953674,\n",
              "  0.7646499872207642,\n",
              "  0.7628499865531921,\n",
              "  0.7660499811172485,\n",
              "  0.7635999917984009,\n",
              "  0.7641500234603882,\n",
              "  0.7655500173568726,\n",
              "  0.7644500136375427,\n",
              "  0.7631499767303467],\n",
              " 'val_loss': [0.8175449967384338,\n",
              "  0.8200885057449341,\n",
              "  0.8159969449043274,\n",
              "  0.8085287809371948,\n",
              "  0.8111558556556702,\n",
              "  0.8062225580215454,\n",
              "  0.8065733313560486,\n",
              "  0.8116294145584106,\n",
              "  0.805054783821106,\n",
              "  0.8030408024787903,\n",
              "  0.8050011992454529,\n",
              "  0.7997618913650513,\n",
              "  0.8126529455184937,\n",
              "  0.8049893379211426,\n",
              "  0.8018429279327393,\n",
              "  0.8026797771453857,\n",
              "  0.8075804710388184,\n",
              "  0.8031143546104431,\n",
              "  0.7983309030532837,\n",
              "  0.8015188574790955,\n",
              "  0.8012424111366272,\n",
              "  0.8035468459129333,\n",
              "  0.8025548458099365,\n",
              "  0.8039005994796753,\n",
              "  0.8007673621177673,\n",
              "  0.8049423694610596,\n",
              "  0.8020045161247253,\n",
              "  0.8042566180229187,\n",
              "  0.8024184703826904,\n",
              "  0.8093762993812561]}"
            ]
          },
          "metadata": {
            "tags": []
          },
          "execution_count": 21
        }
      ]
    },
    {
      "cell_type": "code",
      "metadata": {
        "id": "ijAlzfYKAFaY",
        "outputId": "f57a794a-33a2-426c-9fab-44ef16676999",
        "colab": {
          "base_uri": "https://localhost:8080/",
          "height": 279
        }
      },
      "source": [
        "import seaborn as sns\n",
        "import pandas as pd\n",
        "\n",
        "df = pd.DataFrame.from_records(results_adam.history)\n",
        "df['epoch'] = [i for i in range(df.shape[0])]\n",
        "\n",
        "ax = sns.lineplot(x='epoch', y='val_loss', data=df)\n",
        "ax = sns.lineplot(x='epoch', y='loss', data=df);"
      ],
      "execution_count": 22,
      "outputs": [
        {
          "output_type": "display_data",
          "data": {
            "image/png": "[encoded data removed]",
            "text/plain": [
              "<Figure size 432x288 with 1 Axes>"
            ]
          },
          "metadata": {
            "tags": [],
            "needs_background": "light"
          }
        }
      ]
    },
    {
      "cell_type": "code",
      "metadata": {
        "id": "NRh7Rnw-KN1M"
      },
      "source": [
        "# we should stop at 11 epochs - validation loss and accuracy loss\n"
      ],
      "execution_count": null,
      "outputs": []
    },
    {
      "cell_type": "markdown",
      "metadata": {
        "id": "MAhBrcE4yOZe"
      },
      "source": [
        "## Change Optimizers\n",
        "Try using the keras `adam` optimizer instead of `sgd` in your model. Visualize the difference in validation loss between the models with different optimizers. "
      ]
    },
    {
      "cell_type": "code",
      "metadata": {
        "id": "jIW_spOZ0cxy",
        "outputId": "849195a7-e467-464f-b6ea-267fa35b123e",
        "colab": {
          "base_uri": "https://localhost:8080/"
        }
      },
      "source": [
        "# Stochastic gradient descent\n",
        "\n",
        "# need 10 neurons in last layer for output \n",
        "n_neurons = 10\n",
        "\n",
        "# docs for sequential: https://keras.io/api/models/sequential/\n",
        "# instantiate Sequential - builidng a computational graph one layer at a time \n",
        "model_sgd = Sequential()\n",
        "\n",
        "model_sgd.add(Dense(n_neurons, # number of neurons in this layer \n",
        "                input_dim=784, # implict input layer, here we need to specify the dims of the input data\n",
        "                activation='sigmoid', # specify the activation function\n",
        "               ))\n",
        "\n",
        "# Use sparse_categorical_crossentropy\n",
        "model_sgd.compile(optimizer='sgd', \n",
        "              loss='sparse_categorical_crossentropy', \n",
        "              metrics='accuracy',\n",
        "              #validation_split=0.2\n",
        "              ) \n",
        "\n",
        "# Limit model epochs to 30 each fit\n",
        "model_sgd.fit(X,y, epochs=30)\n"
      ],
      "execution_count": 15,
      "outputs": [
        {
          "output_type": "stream",
          "text": [
            "Epoch 1/30\n",
            "3125/3125 [==============================] - 6s 2ms/step - loss: 2.3120 - accuracy: 0.1238\n",
            "Epoch 2/30\n",
            "3125/3125 [==============================] - 5s 2ms/step - loss: 2.2716 - accuracy: 0.1377\n",
            "Epoch 3/30\n",
            "3125/3125 [==============================] - 5s 2ms/step - loss: 2.2441 - accuracy: 0.1503\n",
            "Epoch 4/30\n",
            "3125/3125 [==============================] - 5s 2ms/step - loss: 2.2354 - accuracy: 0.1557\n",
            "Epoch 5/30\n",
            "3125/3125 [==============================] - 5s 2ms/step - loss: 2.2200 - accuracy: 0.1793\n",
            "Epoch 6/30\n",
            "3125/3125 [==============================] - 5s 2ms/step - loss: 2.2326 - accuracy: 0.1357\n",
            "Epoch 7/30\n",
            "3125/3125 [==============================] - 5s 2ms/step - loss: 2.2188 - accuracy: 0.1296\n",
            "Epoch 8/30\n",
            "3125/3125 [==============================] - 5s 2ms/step - loss: 2.2111 - accuracy: 0.1700\n",
            "Epoch 9/30\n",
            "3125/3125 [==============================] - 5s 2ms/step - loss: 2.1946 - accuracy: 0.1775\n",
            "Epoch 10/30\n",
            "3125/3125 [==============================] - 5s 2ms/step - loss: 2.1937 - accuracy: 0.1766\n",
            "Epoch 11/30\n",
            "3125/3125 [==============================] - 5s 2ms/step - loss: 2.1904 - accuracy: 0.1736\n",
            "Epoch 12/30\n",
            "3125/3125 [==============================] - 5s 2ms/step - loss: 2.1935 - accuracy: 0.1450\n",
            "Epoch 13/30\n",
            "3125/3125 [==============================] - 5s 2ms/step - loss: 2.2030 - accuracy: 0.1325\n",
            "Epoch 14/30\n",
            "3125/3125 [==============================] - 5s 2ms/step - loss: 2.1813 - accuracy: 0.1662\n",
            "Epoch 15/30\n",
            "3125/3125 [==============================] - 5s 2ms/step - loss: 2.1760 - accuracy: 0.1753\n",
            "Epoch 16/30\n",
            "3125/3125 [==============================] - 5s 2ms/step - loss: 2.1667 - accuracy: 0.1742\n",
            "Epoch 17/30\n",
            "3125/3125 [==============================] - 5s 2ms/step - loss: 2.1841 - accuracy: 0.1600\n",
            "Epoch 18/30\n",
            "3125/3125 [==============================] - 5s 2ms/step - loss: 2.1707 - accuracy: 0.1559\n",
            "Epoch 19/30\n",
            "3125/3125 [==============================] - 5s 2ms/step - loss: 2.1517 - accuracy: 0.1725\n",
            "Epoch 20/30\n",
            "3125/3125 [==============================] - 5s 2ms/step - loss: 2.1833 - accuracy: 0.1775\n",
            "Epoch 21/30\n",
            "3125/3125 [==============================] - 5s 2ms/step - loss: 2.1629 - accuracy: 0.1825\n",
            "Epoch 22/30\n",
            "3125/3125 [==============================] - 5s 2ms/step - loss: 2.1481 - accuracy: 0.1786\n",
            "Epoch 23/30\n",
            "3125/3125 [==============================] - 5s 2ms/step - loss: 2.1669 - accuracy: 0.1841\n",
            "Epoch 24/30\n",
            "3125/3125 [==============================] - 5s 2ms/step - loss: 2.1464 - accuracy: 0.1780\n",
            "Epoch 25/30\n",
            "3125/3125 [==============================] - 5s 2ms/step - loss: 2.1414 - accuracy: 0.1781\n",
            "Epoch 26/30\n",
            "3125/3125 [==============================] - 5s 2ms/step - loss: 2.1480 - accuracy: 0.1844\n",
            "Epoch 27/30\n",
            "3125/3125 [==============================] - 5s 2ms/step - loss: 2.1444 - accuracy: 0.1752\n",
            "Epoch 28/30\n",
            "3125/3125 [==============================] - 5s 2ms/step - loss: 2.1363 - accuracy: 0.1787\n",
            "Epoch 29/30\n",
            "3125/3125 [==============================] - 5s 2ms/step - loss: 2.1378 - accuracy: 0.1756\n",
            "Epoch 30/30\n",
            "3125/3125 [==============================] - 5s 2ms/step - loss: 2.1369 - accuracy: 0.1819\n"
          ],
          "name": "stdout"
        },
        {
          "output_type": "execute_result",
          "data": {
            "text/plain": [
              "<tensorflow.python.keras.callbacks.History at 0x7f1e71752ef0>"
            ]
          },
          "metadata": {
            "tags": []
          },
          "execution_count": 15
        }
      ]
    },
    {
      "cell_type": "code",
      "metadata": {
        "id": "msfB727NWvqW"
      },
      "source": [
        "# # Standardization\n",
        "# max_pixal_value = 255. \n",
        "# X_train = X_train.astype('float32') / max_pixal_value\n",
        "# X_test = X_test.astype('float32') /max_pixal_value"
      ],
      "execution_count": null,
      "outputs": []
    },
    {
      "cell_type": "code",
      "metadata": {
        "id": "1nyMRV8rWw38"
      },
      "source": [
        "# # We have flatten our 28 x 28 images into a row vectors with 784 features\n",
        "# # 28 * 28 = 784\n",
        "# X_train = X_train.reshape((X_train.shape[0], 784))\n",
        "# X_test = X_test.reshape((X_test.shape[0], 784))\n",
        "\n",
        "# print(X_train.shape)\n",
        "# print(X_test.shape)"
      ],
      "execution_count": null,
      "outputs": []
    },
    {
      "cell_type": "code",
      "metadata": {
        "id": "PX9E1Z2BXVXb",
        "outputId": "bdd35837-96eb-410e-da86-bc4f446421c3",
        "colab": {
          "base_uri": "https://localhost:8080/"
        }
      },
      "source": [
        "model_sgd.summary()"
      ],
      "execution_count": 16,
      "outputs": [
        {
          "output_type": "stream",
          "text": [
            "Model: \"sequential_1\"\n",
            "_________________________________________________________________\n",
            "Layer (type)                 Output Shape              Param #   \n",
            "=================================================================\n",
            "dense_1 (Dense)              (None, 10)                7850      \n",
            "=================================================================\n",
            "Total params: 7,850\n",
            "Trainable params: 7,850\n",
            "Non-trainable params: 0\n",
            "_________________________________________________________________\n"
          ],
          "name": "stdout"
        }
      ]
    },
    {
      "cell_type": "code",
      "metadata": {
        "id": "1Ua4euPPXaLH",
        "outputId": "e6dfff42-1fe1-45ca-e920-1c8772cd258b",
        "colab": {
          "base_uri": "https://localhost:8080/"
        }
      },
      "source": [
        "results_sgd = model_sgd.fit(X_train, \n",
        "                    y_train, \n",
        "                    epochs=30, \n",
        "                    validation_data=(X_test, y_test))"
      ],
      "execution_count": 23,
      "outputs": [
        {
          "output_type": "stream",
          "text": [
            "Epoch 1/30\n",
            "2500/2500 [==============================] - 6s 2ms/step - loss: 1.8804 - accuracy: 0.3899 - val_loss: 1.5327 - val_accuracy: 0.4602\n",
            "Epoch 2/30\n",
            "2500/2500 [==============================] - 6s 2ms/step - loss: 1.3310 - accuracy: 0.5213 - val_loss: 1.1958 - val_accuracy: 0.5617\n",
            "Epoch 3/30\n",
            "2500/2500 [==============================] - 6s 2ms/step - loss: 1.1402 - accuracy: 0.5800 - val_loss: 1.0837 - val_accuracy: 0.5941\n",
            "Epoch 4/30\n",
            "2500/2500 [==============================] - 6s 2ms/step - loss: 1.0683 - accuracy: 0.6037 - val_loss: 1.0405 - val_accuracy: 0.6110\n",
            "Epoch 5/30\n",
            "2500/2500 [==============================] - 6s 2ms/step - loss: 1.0306 - accuracy: 0.6185 - val_loss: 1.0120 - val_accuracy: 0.6260\n",
            "Epoch 6/30\n",
            "2500/2500 [==============================] - 6s 2ms/step - loss: 1.0040 - accuracy: 0.6290 - val_loss: 0.9922 - val_accuracy: 0.6342\n",
            "Epoch 7/30\n",
            "2500/2500 [==============================] - 6s 2ms/step - loss: 0.9835 - accuracy: 0.6377 - val_loss: 0.9763 - val_accuracy: 0.6435\n",
            "Epoch 8/30\n",
            "2500/2500 [==============================] - 6s 2ms/step - loss: 0.9671 - accuracy: 0.6467 - val_loss: 0.9634 - val_accuracy: 0.6479\n",
            "Epoch 9/30\n",
            "2500/2500 [==============================] - 6s 2ms/step - loss: 0.9535 - accuracy: 0.6520 - val_loss: 0.9516 - val_accuracy: 0.6579\n",
            "Epoch 10/30\n",
            "2500/2500 [==============================] - 6s 2ms/step - loss: 0.9414 - accuracy: 0.6597 - val_loss: 0.9413 - val_accuracy: 0.6643\n",
            "Epoch 11/30\n",
            "2500/2500 [==============================] - 6s 2ms/step - loss: 0.9303 - accuracy: 0.6660 - val_loss: 0.9316 - val_accuracy: 0.6695\n",
            "Epoch 12/30\n",
            "2500/2500 [==============================] - 6s 2ms/step - loss: 0.9203 - accuracy: 0.6734 - val_loss: 0.9240 - val_accuracy: 0.6781\n",
            "Epoch 13/30\n",
            "2500/2500 [==============================] - 6s 2ms/step - loss: 0.9108 - accuracy: 0.6815 - val_loss: 0.9152 - val_accuracy: 0.6848\n",
            "Epoch 14/30\n",
            "2500/2500 [==============================] - 6s 2ms/step - loss: 0.9018 - accuracy: 0.6914 - val_loss: 0.9076 - val_accuracy: 0.6964\n",
            "Epoch 15/30\n",
            "2500/2500 [==============================] - 6s 2ms/step - loss: 0.8929 - accuracy: 0.7053 - val_loss: 0.8994 - val_accuracy: 0.7127\n",
            "Epoch 16/30\n",
            "2500/2500 [==============================] - 6s 2ms/step - loss: 0.8834 - accuracy: 0.7236 - val_loss: 0.8916 - val_accuracy: 0.7264\n",
            "Epoch 17/30\n",
            "2500/2500 [==============================] - 6s 2ms/step - loss: 0.8737 - accuracy: 0.7385 - val_loss: 0.8823 - val_accuracy: 0.7391\n",
            "Epoch 18/30\n",
            "2500/2500 [==============================] - 6s 2ms/step - loss: 0.8645 - accuracy: 0.7478 - val_loss: 0.8747 - val_accuracy: 0.7474\n",
            "Epoch 19/30\n",
            "2500/2500 [==============================] - 6s 2ms/step - loss: 0.8568 - accuracy: 0.7521 - val_loss: 0.8685 - val_accuracy: 0.7531\n",
            "Epoch 20/30\n",
            "2500/2500 [==============================] - 6s 2ms/step - loss: 0.8501 - accuracy: 0.7558 - val_loss: 0.8631 - val_accuracy: 0.7554\n",
            "Epoch 21/30\n",
            "2500/2500 [==============================] - 6s 2ms/step - loss: 0.8448 - accuracy: 0.7578 - val_loss: 0.8578 - val_accuracy: 0.7581\n",
            "Epoch 22/30\n",
            "2500/2500 [==============================] - 6s 2ms/step - loss: 0.8401 - accuracy: 0.7606 - val_loss: 0.8545 - val_accuracy: 0.7592\n",
            "Epoch 23/30\n",
            "2500/2500 [==============================] - 6s 2ms/step - loss: 0.8359 - accuracy: 0.7610 - val_loss: 0.8511 - val_accuracy: 0.7605\n",
            "Epoch 24/30\n",
            "2500/2500 [==============================] - 6s 2ms/step - loss: 0.8324 - accuracy: 0.7619 - val_loss: 0.8474 - val_accuracy: 0.7599\n",
            "Epoch 25/30\n",
            "2500/2500 [==============================] - 6s 2ms/step - loss: 0.8292 - accuracy: 0.7633 - val_loss: 0.8468 - val_accuracy: 0.7610\n",
            "Epoch 26/30\n",
            "2500/2500 [==============================] - 6s 2ms/step - loss: 0.8263 - accuracy: 0.7647 - val_loss: 0.8434 - val_accuracy: 0.7619\n",
            "Epoch 27/30\n",
            "2500/2500 [==============================] - 6s 2ms/step - loss: 0.8235 - accuracy: 0.7645 - val_loss: 0.8406 - val_accuracy: 0.7620\n",
            "Epoch 28/30\n",
            "2500/2500 [==============================] - 6s 2ms/step - loss: 0.8212 - accuracy: 0.7657 - val_loss: 0.8384 - val_accuracy: 0.7623\n",
            "Epoch 29/30\n",
            "2500/2500 [==============================] - 6s 2ms/step - loss: 0.8188 - accuracy: 0.7667 - val_loss: 0.8378 - val_accuracy: 0.7613\n",
            "Epoch 30/30\n",
            "2500/2500 [==============================] - 6s 2ms/step - loss: 0.8167 - accuracy: 0.7660 - val_loss: 0.8351 - val_accuracy: 0.7614\n"
          ],
          "name": "stdout"
        }
      ]
    },
    {
      "cell_type": "code",
      "metadata": {
        "id": "cx6dBVwmXitr",
        "outputId": "3ad94740-84e8-4087-975b-bbc3cfe992b2",
        "colab": {
          "base_uri": "https://localhost:8080/"
        }
      },
      "source": [
        "results_sgd.history"
      ],
      "execution_count": 24,
      "outputs": [
        {
          "output_type": "execute_result",
          "data": {
            "text/plain": [
              "{'accuracy': [0.3898625075817108,\n",
              "  0.5212875008583069,\n",
              "  0.5799750089645386,\n",
              "  0.6036624908447266,\n",
              "  0.6185374855995178,\n",
              "  0.6290125250816345,\n",
              "  0.6377000212669373,\n",
              "  0.6467124819755554,\n",
              "  0.6520125269889832,\n",
              "  0.65972501039505,\n",
              "  0.6659749746322632,\n",
              "  0.6733750104904175,\n",
              "  0.6815000176429749,\n",
              "  0.6914499998092651,\n",
              "  0.7053124904632568,\n",
              "  0.7236124873161316,\n",
              "  0.7385374903678894,\n",
              "  0.7478125095367432,\n",
              "  0.7520624995231628,\n",
              "  0.7557874917984009,\n",
              "  0.7578499913215637,\n",
              "  0.7606250047683716,\n",
              "  0.7610499858856201,\n",
              "  0.7619374990463257,\n",
              "  0.7633374929428101,\n",
              "  0.7647374868392944,\n",
              "  0.7644500136375427,\n",
              "  0.7656750082969666,\n",
              "  0.7666875123977661,\n",
              "  0.7660375237464905],\n",
              " 'loss': [1.880373239517212,\n",
              "  1.3310048580169678,\n",
              "  1.1401982307434082,\n",
              "  1.0682860612869263,\n",
              "  1.0305931568145752,\n",
              "  1.0040024518966675,\n",
              "  0.9835299849510193,\n",
              "  0.9670819044113159,\n",
              "  0.9534735083580017,\n",
              "  0.9413909912109375,\n",
              "  0.9302915930747986,\n",
              "  0.9203217625617981,\n",
              "  0.9108420014381409,\n",
              "  0.9017707109451294,\n",
              "  0.8929308652877808,\n",
              "  0.8833940625190735,\n",
              "  0.8737480640411377,\n",
              "  0.8644634485244751,\n",
              "  0.8567579984664917,\n",
              "  0.8501080870628357,\n",
              "  0.8447698354721069,\n",
              "  0.8400791883468628,\n",
              "  0.8359154462814331,\n",
              "  0.8324261903762817,\n",
              "  0.8291640877723694,\n",
              "  0.8262757658958435,\n",
              "  0.8235181570053101,\n",
              "  0.8212032914161682,\n",
              "  0.8188418745994568,\n",
              "  0.8167453408241272],\n",
              " 'val_accuracy': [0.4602000117301941,\n",
              "  0.5616999864578247,\n",
              "  0.5940999984741211,\n",
              "  0.6110000014305115,\n",
              "  0.6260499954223633,\n",
              "  0.6342499852180481,\n",
              "  0.6434999704360962,\n",
              "  0.6479499936103821,\n",
              "  0.6578500270843506,\n",
              "  0.6642500162124634,\n",
              "  0.6694999933242798,\n",
              "  0.6780999898910522,\n",
              "  0.6848499774932861,\n",
              "  0.696399986743927,\n",
              "  0.7126500010490417,\n",
              "  0.7264000177383423,\n",
              "  0.7390999794006348,\n",
              "  0.7474499940872192,\n",
              "  0.7530500292778015,\n",
              "  0.7554000020027161,\n",
              "  0.7581499814987183,\n",
              "  0.7591999769210815,\n",
              "  0.7605000138282776,\n",
              "  0.7599499821662903,\n",
              "  0.7609500288963318,\n",
              "  0.761900007724762,\n",
              "  0.7619500160217285,\n",
              "  0.7623000144958496,\n",
              "  0.7612500190734863,\n",
              "  0.7613999843597412],\n",
              " 'val_loss': [1.5326793193817139,\n",
              "  1.1958410739898682,\n",
              "  1.0836710929870605,\n",
              "  1.0404709577560425,\n",
              "  1.0119823217391968,\n",
              "  0.992153525352478,\n",
              "  0.9762807488441467,\n",
              "  0.9634227752685547,\n",
              "  0.9515582323074341,\n",
              "  0.9412835240364075,\n",
              "  0.9315871000289917,\n",
              "  0.924015998840332,\n",
              "  0.9152435660362244,\n",
              "  0.9075549840927124,\n",
              "  0.8994449973106384,\n",
              "  0.8915642499923706,\n",
              "  0.8822656273841858,\n",
              "  0.8747131824493408,\n",
              "  0.8685354590415955,\n",
              "  0.8631255626678467,\n",
              "  0.8577879667282104,\n",
              "  0.8544593453407288,\n",
              "  0.8511244058609009,\n",
              "  0.8473931550979614,\n",
              "  0.8468149304389954,\n",
              "  0.8433842062950134,\n",
              "  0.8405876755714417,\n",
              "  0.8384225368499756,\n",
              "  0.8378016352653503,\n",
              "  0.835120439529419]}"
            ]
          },
          "metadata": {
            "tags": []
          },
          "execution_count": 24
        }
      ]
    },
    {
      "cell_type": "code",
      "metadata": {
        "id": "elGd_lWKXp0-",
        "outputId": "8d1e0295-fd09-4b6b-d291-b1bcbcb7f34c",
        "colab": {
          "base_uri": "https://localhost:8080/",
          "height": 279
        }
      },
      "source": [
        "df = pd.DataFrame.from_records(results_sgd.history)\n",
        "df['epoch'] = [i for i in range(df.shape[0])]\n",
        "\n",
        "ax = sns.lineplot(x='epoch', y='val_loss', data=df)\n",
        "ax = sns.lineplot(x='epoch', y='loss', data=df);"
      ],
      "execution_count": 25,
      "outputs": [
        {
          "output_type": "display_data",
          "data": {
            "image/png": "[encoded data removed]",
            "text/plain": [
              "<Figure size 432x288 with 1 Axes>"
            ]
          },
          "metadata": {
            "tags": [],
            "needs_background": "light"
          }
        }
      ]
    },
    {
      "cell_type": "code",
      "metadata": {
        "id": "EPab5iIsXwgl"
      },
      "source": [
        "# we should stop at 7 - 11 epochs - convergence of validation loss and accuracy loss"
      ],
      "execution_count": null,
      "outputs": []
    },
    {
      "cell_type": "markdown",
      "metadata": {
        "id": "EJrbh3qryi4w"
      },
      "source": [
        "### Additional Written Tasks:\n",
        "In this section, you will need to search for resources: \n",
        "1. Investigate the various [loss functions](https://www.tensorflow.org/api_docs/python/tf/keras/losses). Which is best suited for the task at hand (predicting 1 / 0) and why? \n",
        "\n",
        "Sigmoid — This results in a value between 0 and 1 which we can infer to be how confident the model is of the example being in the class\n",
        "\n",
        "2. What is the difference between a loss function and a metric? Why might we need both in Keras? \n",
        "\n",
        "The loss function is used to optimize your model. This is the function that will get minimized by the optimizer. A metric is used to judge the performance of your model.\n",
        "\n",
        "3. Investigate the various [optimizers](https://www.tensorflow.org/api_docs/python/tf/keras/optimizers). Stochastic Gradient Descent (`sgd`) is not the learning algorithm dejour anyone. Why is that? What do newer optimizers such as `adam` have to offer? \n",
        "\n",
        "Stochastic Gradient Descent is an improved version of batch gradient descent. Instead of computing the gradients over the entire dataset, it performs a parameter update for each example in the dataset. The problem of SGD is that the updates are frequent and with a high variance, so the objective function heavily fluctuates during training. The problem of SGD is that the updates are frequent and with a high variance, so the objective function heavily fluctuates during training.\n",
        "\n",
        "Adam adds to the advantages of Adadelta and RMSprop, the storing of an exponentially decaying average of past gradients similar to momentum. Adam is the best among the adaptive optimizers in most of the cases. It is good with sparse data: the adaptive learning rate is perfect for this type of datasets.\n",
        "There is no need to focus on the learning rate value.\n",
        "\n",
        "Adam is the best choice in general. Anyway, many recent papers state that SGD can bring to better results if combined with a good learning rate annealing schedule which aims to manage its value during the training.\n",
        "First try Adam in any case, because it is more likely to return good results without an advanced fine tuning. Then, if Adam achieves good results, it could be a good idea to switch on SGD to see what happens."
      ]
    },
    {
      "cell_type": "markdown",
      "metadata": {
        "id": "Gzs4fd-RynDd"
      },
      "source": [
        "## Stretch Goals: \n",
        "\n",
        "- Research convolutional neural networks and try including convolution layers in your network.\n",
        "- Pick two classes and make QuickDraw a binary classification problem, how does your model architecture change?\n",
        "- Implement Cross Validation model evaluation on your Quickdraw implementation \n",
        "\n",
        "Watch some more videos on Gradient Descent:\n",
        "- [Gradient Descent, Step-by-Step](https://www.youtube.com/watch?v=sDv4f4s2SB8)  by StatQuest w/ Josh Starmer. This will help you understand the gradient descent based optimization that happens underneath the hood of neural networks. It uses a non-neural network example, which I believe is a gentler introduction. You will hear me refer to this technique as \"vanilla\" gradient descent. \n",
        "- [Stochastic Gradient Descent, Clearly Explained!!!](https://www.youtube.com/watch?v=vMh0zPT0tLI) by StatQuest w/ Josh Starmer. This builds on the techniques in the previous video.  This technique is the one that is actually implemented inside modern 'nets. \n",
        "- [Siraj Raval the evolution of gradient descent](https://www.youtube.com/watch?v=nhqo0u1a6fw)"
      ]
    }
  ]
}